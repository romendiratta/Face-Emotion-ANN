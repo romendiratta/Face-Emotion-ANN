{
 "cells": [
  {
   "cell_type": "markdown",
   "metadata": {},
   "source": [
    "## ResNet50 Transfer Learning: Data Augementation\n",
    "### This notebook contains code to apply transfer learning to the ResNet50 model, with the goal of classifying facial emotions. This code will augment the dataset."
   ]
  },
  {
   "cell_type": "code",
   "execution_count": null,
   "metadata": {
    "colab": {
     "base_uri": "https://localhost:8080/",
     "height": 35
    },
    "id": "Vw7_lP-DS930",
    "outputId": "067252ec-0ee4-4446-8a74-18d3d73235f9"
   },
   "outputs": [],
   "source": [
    "import numpy as np\n",
    "import time\n",
    "import pandas as pd\n",
    "from matplotlib import pyplot as plt\n",
    "\n",
    "# machine learning libraries and functions\n",
    "import tensorflow as tf\n",
    "import keras\n",
    "from keras.models import Model\n",
    "from keras.applications import ResNet50\n",
    "from keras.applications.resnet import preprocess_input\n",
    "from keras.layers import Dense, GlobalAveragePooling2D, Dropout, UpSampling2D, BatchNormalization, InputLayer\n",
    "#from keras.applications.inception_v3 import InceptionV3\n",
    "#from keras.applications.inception_v3 import preprocess_input\n",
    "from keras.preprocessing.image import ImageDataGenerator\n",
    "from keras import Sequential\n",
    "from sklearn.model_selection import train_test_split"
   ]
  },
  {
   "cell_type": "code",
   "execution_count": null,
   "metadata": {
    "id": "UROzzSP8S94C"
   },
   "outputs": [],
   "source": [
    "# load input images and labels\n",
    "inputs = np.load('input.npy')\n",
    "label = np.load('labels.npy')"
   ]
  },
  {
   "cell_type": "code",
   "execution_count": null,
   "metadata": {},
   "outputs": [],
   "source": [
    "# split input images into training/testing\n",
    "X_train, X_test, Y_train, Y_test = train_test_split(inputs, label, test_size=0.3, random_state=0)\n",
    "\n",
    "# preprocesses test images for ResNet50\n",
    "X_test = preprocess_input(X_test)\n",
    "\n",
    "# create datagen to augment images\n",
    "datagen = ImageDataGenerator(rotation_range=90,\n",
    "                            width_shift_range=0.1,\n",
    "                            height_shift_range=0.1,\n",
    "                            zoom_range=0.3,\n",
    "                            horizontal_flip = True,\n",
    "                            preprocessing_function=preprocess_input)\n",
    "\n",
    "generator = datagen.flow(X_train, Y_train, batch_size=1, shuffle=False)\n",
    "\n",
    "print(X_train.shape)\n",
    "print(Y_train.shape)\n",
    "\n",
    "print(X_test.shape)\n",
    "print(Y_test.shape)"
   ]
  },
  {
   "cell_type": "code",
   "execution_count": null,
   "metadata": {
    "colab": {
     "base_uri": "https://localhost:8080/"
    },
    "id": "03d_5kPiL-RI",
    "outputId": "9911c487-fa47-4ef2-f48f-dc442964c7fc"
   },
   "outputs": [],
   "source": [
    "# load model for feature extraction\n",
    "resnet_model = ResNet50(weights='imagenet', include_top=False, input_shape=(128,128,3))\n",
    "#InceptionV3_model = InceptionV3(weights='imagenet', include_top=False, input_shape=(128,128,3))"
   ]
  },
  {
   "cell_type": "code",
   "execution_count": null,
   "metadata": {},
   "outputs": [],
   "source": [
    "# extract features from training data\n",
    "feature_extraction = resnet_model.predict_generator(generator, steps=X_train.shape[0])"
   ]
  },
  {
   "cell_type": "code",
   "execution_count": null,
   "metadata": {},
   "outputs": [],
   "source": [
    "# save feature extraction tensor\n",
    "np.save('ResNet50_Feature_Extraction_Augmented', feature_extraction)"
   ]
  },
  {
   "cell_type": "code",
   "execution_count": null,
   "metadata": {},
   "outputs": [],
   "source": [
    "np.savez_compressed('ResNet50_Feature_Extraction_Augmented_Compressed', feature_extraction)"
   ]
  },
  {
   "cell_type": "code",
   "execution_count": null,
   "metadata": {},
   "outputs": [],
   "source": [
    "# load feature extraction tensor\n",
    "feature_extraction = np.load('ResNet50_Feature_Extraction_Augmented.npy')"
   ]
  },
  {
   "cell_type": "code",
   "execution_count": null,
   "metadata": {
    "colab": {
     "base_uri": "https://localhost:8080/"
    },
    "id": "_g1goLdTNIla",
    "outputId": "a616fa4b-5abf-442a-9307-64d134800eba"
   },
   "outputs": [],
   "source": [
    "# get number of classes\n",
    "NUM_CLASSES = label.shape[1]\n",
    "\n",
    "# build trainable model\n",
    "model = Sequential()\n",
    "model.add(GlobalAveragePooling2D())\n",
    "model.add(Dense(256, activation='relu'))\n",
    "model.add(Dropout(.25))\n",
    "model.add(BatchNormalization())\n",
    "model.add(Dense(NUM_CLASSES, activation='softmax'))"
   ]
  },
  {
   "cell_type": "code",
   "execution_count": null,
   "metadata": {
    "id": "xrK3zypOdVeK"
   },
   "outputs": [],
   "source": [
    "# compile model\n",
    "model.compile(optimizer='rmsprop',\n",
    "              loss='categorical_crossentropy',\n",
    "              metrics=['accuracy'])"
   ]
  },
  {
   "cell_type": "code",
   "execution_count": null,
   "metadata": {
    "colab": {
     "base_uri": "https://localhost:8080/"
    },
    "id": "oHl5whPOdbgB",
    "outputId": "78b150a8-cb9b-4b09-8dd5-e2663ab77c54"
   },
   "outputs": [],
   "source": [
    "start_time = time.time()\n",
    "\n",
    "EPOCHS = 500\n",
    "STEPS_PER_EPOCH = 20\n",
    "VALIDATION_STEPS = 1\n",
    "\n",
    "# save weights with best validation accuracy\n",
    "checkpoint_filepath = './ResNet50_Top_Data_Augmented.checkpoint'\n",
    "model_checkpoint_callback = keras.callbacks.ModelCheckpoint(\n",
    "    filepath=checkpoint_filepath,\n",
    "    save_weights_only=True,\n",
    "    monitor='val_accuracy',\n",
    "    mode='max',\n",
    "    save_best_only=True)\n",
    "\n",
    "# stop training when validation accuracy stops improving\n",
    "early_stopping_callback = keras.callbacks.EarlyStopping(\n",
    "    monitor='val_accuracy',\n",
    "    min_delta=0.01,\n",
    "    patience=25,\n",
    "    mode='auto',\n",
    "    restore_best_weights=True)\n",
    "\n",
    "# train model\n",
    "history = model.fit(\n",
    "    x=feature_extraction, y=Y_train,\n",
    "    epochs=EPOCHS,\n",
    "    steps_per_epoch=STEPS_PER_EPOCH,\n",
    "    validation_steps=VALIDATION_STEPS,\n",
    "    validation_split=0.2,\n",
    "    shuffle=True,\n",
    "    callbacks=[model_checkpoint_callback, early_stopping_callback])\n",
    "  \n",
    "print(f\"Time consumed for {EPOCHS} epochs: {(time.time() - start_time )/60 // 0.01 * 0.01} mins\")"
   ]
  },
  {
   "cell_type": "code",
   "execution_count": null,
   "metadata": {},
   "outputs": [],
   "source": [
    "# load weights with best validation accuracy\n",
    "model.load_weights(checkpoint_filepath)"
   ]
  },
  {
   "cell_type": "code",
   "execution_count": null,
   "metadata": {
    "colab": {
     "base_uri": "https://localhost:8080/",
     "height": 545
    },
    "id": "4mVbRbbffqty",
    "outputId": "2255306f-4e42-475f-c67c-0bacd91ae6c3"
   },
   "outputs": [],
   "source": [
    "# visualize training statistics\n",
    "acc = history.history['accuracy']\n",
    "loss = history.history['loss']\n",
    "val_acc = history.history['val_accuracy']\n",
    "val_loss = history.history['val_loss']\n",
    "epochs = range(1,len(acc)+1)\n",
    "\n",
    "plt.plot(epochs, val_acc,'r', label = 'Validation')\n",
    "plt.plot(epochs, acc,'b', label = 'Train')\n",
    "plt.title(\"Training Accuracy\")\n",
    "plt.legend()\n",
    "\n",
    "plt.figure()\n",
    "plt.plot(epochs, val_loss,'r', label = 'Validation')\n",
    "plt.plot(epochs,loss,'b', label = 'Train')\n",
    "plt.title(\"Training Loss\")\n",
    "\n",
    "plt.legend()\n",
    "plt.show()"
   ]
  },
  {
   "cell_type": "code",
   "execution_count": null,
   "metadata": {},
   "outputs": [],
   "source": [
    "# combine ResNet50 base model with trained layers\n",
    "out = model(resnet_model.outputs)\n",
    "transfer_model = Model(inputs=resnet_model.inputs, outputs=out)\n",
    "\n",
    "transfer_model.compile(optimizer='rmsprop',\n",
    "              loss='categorical_crossentropy',\n",
    "              metrics=['accuracy'])"
   ]
  },
  {
   "cell_type": "code",
   "execution_count": null,
   "metadata": {
    "colab": {
     "base_uri": "https://localhost:8080/"
    },
    "id": "fEVviCSif7lB",
    "outputId": "1d9a0502-763e-4dc1-adfc-4e78e6fefc91"
   },
   "outputs": [],
   "source": [
    "# test full model\n",
    "evaluation = transfer_model.evaluate(x = X_test, y = Y_test)"
   ]
  },
  {
   "cell_type": "code",
   "execution_count": null,
   "metadata": {
    "id": "RmvNMpOuXSkl"
   },
   "outputs": [],
   "source": [
    "print(transfer_model.metrics_names)\n",
    "print(evaluation)"
   ]
  },
  {
   "cell_type": "code",
   "execution_count": null,
   "metadata": {},
   "outputs": [],
   "source": []
  }
 ],
 "metadata": {
  "accelerator": "GPU",
  "colab": {
   "collapsed_sections": [],
   "name": "ResNet_Transfer_Learning.ipynb",
   "provenance": []
  },
  "kernelspec": {
   "display_name": "Python 3",
   "language": "python",
   "name": "python3"
  },
  "language_info": {
   "codemirror_mode": {
    "name": "ipython",
    "version": 3
   },
   "file_extension": ".py",
   "mimetype": "text/x-python",
   "name": "python",
   "nbconvert_exporter": "python",
   "pygments_lexer": "ipython3",
   "version": "3.7.3"
  }
 },
 "nbformat": 4,
 "nbformat_minor": 1
}
