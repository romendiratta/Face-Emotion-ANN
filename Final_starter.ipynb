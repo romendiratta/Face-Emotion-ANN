{
 "cells": [
  {
   "cell_type": "code",
   "execution_count": 1,
   "metadata": {},
   "outputs": [],
   "source": [
    "from os import path\n",
    "import numpy as np\n",
    "import cv2\n",
    "import pandas as pd"
   ]
  },
  {
   "cell_type": "code",
   "execution_count": 2,
   "metadata": {},
   "outputs": [
    {
     "name": "stdout",
     "output_type": "stream",
     "text": [
      "(13690,)\n",
      "(13690,)\n"
     ]
    }
   ],
   "source": [
    "#Read iris.csv\n",
    "legend = pd.read_csv('legend.csv').to_numpy()\n",
    "#print(legend)\n",
    "\n",
    "label = legend[:, 2]\n",
    "pic_name = legend[:, 1]\n",
    "\n",
    "print(pic_name.shape)\n",
    "print(label.shape)"
   ]
  },
  {
   "cell_type": "code",
   "execution_count": 16,
   "metadata": {},
   "outputs": [
    {
     "name": "stdout",
     "output_type": "stream",
     "text": [
      "Final Images Matrix Shape:  (13690, 350, 350)\n"
     ]
    }
   ],
   "source": [
    "folder = 'images/'\n",
    "imgs = []\n",
    "for name in pic_name[:]:\n",
    "    \n",
    "    #read the img\n",
    "    img = cv2.imread(folder+name)\n",
    "    #convert to gray\n",
    "    gray_img = cv2.cvtColor(img, cv2.COLOR_BGR2GRAY)\n",
    "    #resize\n",
    "    final_img = cv2.resize(gray_img, (350,350))\n",
    "    \n",
    "    imgs.append(final_img)\n",
    "    #print(final_img.shape)\n",
    "    '''\n",
    "    #code to show the img    \n",
    "    cv2.imshow('origin', img)\n",
    "    cv2.imshow('Gray Color', gray_img)\n",
    "    cv2.imshow('350*350resize', final_img)\n",
    "    \n",
    "    cv2.waitKey(0)\n",
    "    cv2.destroyAllWindows()\n",
    "    '''\n",
    "\n",
    "    \n",
    "imgs = np.array(imgs)\n",
    "print('Final Images Matrix Shape: ', imgs.shape)\n"
   ]
  },
  {
   "cell_type": "code",
   "execution_count": null,
   "metadata": {},
   "outputs": [],
   "source": []
  },
  {
   "cell_type": "code",
   "execution_count": null,
   "metadata": {},
   "outputs": [],
   "source": []
  },
  {
   "cell_type": "code",
   "execution_count": null,
   "metadata": {},
   "outputs": [],
   "source": []
  },
  {
   "cell_type": "code",
   "execution_count": null,
   "metadata": {},
   "outputs": [],
   "source": []
  }
 ],
 "metadata": {
  "kernelspec": {
   "display_name": "Python 3",
   "language": "python",
   "name": "python3"
  },
  "language_info": {
   "codemirror_mode": {
    "name": "ipython",
    "version": 3
   },
   "file_extension": ".py",
   "mimetype": "text/x-python",
   "name": "python",
   "nbconvert_exporter": "python",
   "pygments_lexer": "ipython3",
   "version": "3.7.3"
  }
 },
 "nbformat": 4,
 "nbformat_minor": 4
}
