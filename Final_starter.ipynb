{
 "cells": [
  {
   "cell_type": "code",
   "execution_count": 1,
   "metadata": {},
   "outputs": [],
   "source": [
    "from os import path\n",
    "import numpy as np\n",
    "import cv2\n",
    "import pandas as pd"
   ]
  },
  {
   "cell_type": "code",
   "execution_count": 2,
   "metadata": {},
   "outputs": [
    {
     "name": "stdout",
     "output_type": "stream",
     "text": [
      "[['628' 'facial-expressions_2868588k.jpg' 'anger']\n",
      " ['628' 'facial-expressions_2868585k.jpg' 'surprise']\n",
      " ['628' 'facial-expressions_2868584k.jpg' 'disgust']\n",
      " ...\n",
      " ['jhamski' 'SharmilaTagore_82.jpg' 'HAPPINESS']\n",
      " ['jhamski' 'SharmilaTagore_83.jpg' 'HAPPINESS']\n",
      " ['jhamski' 'SharmilaTagore_9.jpg' 'HAPPINESS']]\n",
      "(13690,)\n"
     ]
    }
   ],
   "source": [
    "#Read iris.csv\n",
    "legend = pd.read_csv('data/legend.csv').to_numpy()\n",
    "print(legend)\n",
    "\n",
    "label = legend[:, 2]\n",
    "pic_name = legend[:, 1]\n",
    "\n",
    "print(pic_name.shape)"
   ]
  },
  {
   "cell_type": "code",
   "execution_count": 5,
   "metadata": {},
   "outputs": [
    {
     "name": "stdout",
     "output_type": "stream",
     "text": [
      "(350, 350, 3)\n",
      "(350, 350)\n",
      "(350, 350, 3)\n",
      "(350, 350)\n",
      "(350, 350, 3)\n",
      "(350, 350)\n"
     ]
    }
   ],
   "source": [
    "folder = 'images/'\n",
    "for name in pic_name[:3]:\n",
    "    name = 'Aaron_Eckhart_0001.jpg'\n",
    "    img = cv2.imread(folder+name)\n",
    "    print(img.shape)\n",
    "    gray = cv2.cvtColor(img, cv2.COLOR_BGR2GRAY)\n",
    "    print(gray.shape)\n",
    "    \n",
    "    cv2.imshow('rgb', img)\n",
    "    cv2.imshow('gray', gray)\n",
    "    \n",
    "    cv2.waitKey(0)\n",
    "    cv2.destroyAllWindows()"
   ]
  },
  {
   "cell_type": "code",
   "execution_count": null,
   "metadata": {},
   "outputs": [],
   "source": []
  },
  {
   "cell_type": "code",
   "execution_count": null,
   "metadata": {},
   "outputs": [],
   "source": []
  },
  {
   "cell_type": "code",
   "execution_count": null,
   "metadata": {},
   "outputs": [],
   "source": []
  },
  {
   "cell_type": "code",
   "execution_count": null,
   "metadata": {},
   "outputs": [],
   "source": []
  },
  {
   "cell_type": "code",
   "execution_count": null,
   "metadata": {},
   "outputs": [],
   "source": []
  },
  {
   "cell_type": "code",
   "execution_count": null,
   "metadata": {},
   "outputs": [],
   "source": []
  },
  {
   "cell_type": "code",
   "execution_count": null,
   "metadata": {},
   "outputs": [],
   "source": []
  },
  {
   "cell_type": "code",
   "execution_count": null,
   "metadata": {},
   "outputs": [],
   "source": []
  },
  {
   "cell_type": "code",
   "execution_count": null,
   "metadata": {},
   "outputs": [],
   "source": []
  },
  {
   "cell_type": "code",
   "execution_count": null,
   "metadata": {},
   "outputs": [],
   "source": []
  },
  {
   "cell_type": "code",
   "execution_count": 16,
   "metadata": {},
   "outputs": [
    {
     "name": "stdout",
     "output_type": "stream",
     "text": [
      "[[906 'Sourav_Ganguly_0004.jpg' 'happiness']\n",
      " [906 'Sourav_Ganguly_0005.jpg' 'neutral']\n",
      " [906 'Spencer_Abraham_0001.jpg' 'anger']\n",
      " ...\n",
      " [906 'Tim_Robbins_0002.jpg' 'neutral']\n",
      " [906 'Tim_Robbins_0003.jpg' 'neutral']\n",
      " [906 'Tim_Robbins_0004.jpg' 'happiness']]\n",
      "(499,)\n"
     ]
    }
   ],
   "source": [
    "#Read iris.csv\n",
    "legend_500 = pd.read_csv('data/500_picts_satz.csv').to_numpy()\n",
    "print(legend_500)\n",
    "\n",
    "label_500 = legend_500[:, 2]\n",
    "pic_name_500 = legend_500[:, 1]\n",
    "\n",
    "print(pic_name_500.shape)"
   ]
  },
  {
   "cell_type": "code",
   "execution_count": 19,
   "metadata": {},
   "outputs": [
    {
     "name": "stdout",
     "output_type": "stream",
     "text": [
      "Thomas_Daily_0001.jpg not founded\n"
     ]
    }
   ],
   "source": [
    "folder = 'images/'\n",
    "for name in pic_name_500:\n",
    "    if not path.exists(folder + name):\n",
    "        print(name,' is not existing in the folder ', folder)\n",
    "    if name not in pic_name:\n",
    "        print(name, 'not founded')"
   ]
  },
  {
   "cell_type": "code",
   "execution_count": null,
   "metadata": {},
   "outputs": [],
   "source": []
  }
 ],
 "metadata": {
  "kernelspec": {
   "display_name": "Python 3",
   "language": "python",
   "name": "python3"
  },
  "language_info": {
   "codemirror_mode": {
    "name": "ipython",
    "version": 3
   },
   "file_extension": ".py",
   "mimetype": "text/x-python",
   "name": "python",
   "nbconvert_exporter": "python",
   "pygments_lexer": "ipython3",
   "version": "3.7.3"
  }
 },
 "nbformat": 4,
 "nbformat_minor": 4
}
