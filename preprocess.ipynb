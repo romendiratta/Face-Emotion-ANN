{
 "cells": [
  {
   "cell_type": "code",
   "execution_count": 1,
   "metadata": {},
   "outputs": [],
   "source": [
    "from os import path\n",
    "import numpy as np\n",
    "import cv2\n",
    "import pandas as pd\n",
    "from sklearn.preprocessing import LabelEncoder\n",
    "from sklearn.preprocessing import OneHotEncoder"
   ]
  },
  {
   "cell_type": "code",
   "execution_count": 2,
   "metadata": {},
   "outputs": [
    {
     "name": "stdout",
     "output_type": "stream",
     "text": [
      "(13690,)\n",
      "(13690,)\n"
     ]
    }
   ],
   "source": [
    "# read iris.csv\n",
    "legend = pd.read_csv('legend.csv').to_numpy()\n",
    "\n",
    "# split into label and identifiers\n",
    "tmp_labels = legend[:, 2]\n",
    "tmp_pic_names = legend[:, 1]\n",
    "tmp_labels = np.array([i.lower() for i in tmp_labels])\n",
    "print(tmp_pic_names.shape)\n",
    "print(tmp_pic_names.shape)\n"
   ]
  },
  {
   "cell_type": "code",
   "execution_count": 3,
   "metadata": {},
   "outputs": [
    {
     "name": "stdout",
     "output_type": "stream",
     "text": [
      "Final Images Matrix Shape:  (13690, 350, 350)\n"
     ]
    }
   ],
   "source": [
    "folder = 'images/'\n",
    "imgs = []\n",
    "for name in tmp_pic_names[:]:\n",
    "    \n",
    "    #read the img\n",
    "    img = cv2.imread(folder+name)\n",
    "    #convert to gray\n",
    "    gray_img = cv2.cvtColor(img, cv2.COLOR_BGR2GRAY)\n",
    "    #resize\n",
    "    final_img = cv2.resize(gray_img, (350,350))\n",
    "    \n",
    "    imgs.append(final_img)\n",
    "    #print(final_img.shape)\n",
    "    '''\n",
    "    #code to show the img    \n",
    "    cv2.imshow('origin', img)\n",
    "    cv2.imshow('Gray Color', gray_img)\n",
    "    cv2.imshow('350*350resize', final_img)\n",
    "    \n",
    "    cv2.waitKey(0)\n",
    "    cv2.destroyAllWindows()\n",
    "    '''\n",
    "\n",
    "    \n",
    "imgs = np.array(imgs)\n",
    "print('Final Images Matrix Shape: ', imgs.shape)\n"
   ]
  },
  {
   "cell_type": "code",
   "execution_count": 11,
   "metadata": {},
   "outputs": [
    {
     "name": "stdout",
     "output_type": "stream",
     "text": [
      "['x0_anger' 'x0_contempt' 'x0_disgust' 'x0_fear' 'x0_happiness'\n",
      " 'x0_neutral' 'x0_sadness' 'x0_surprise']\n"
     ]
    }
   ],
   "source": [
    "# autoencode labels for training\n",
    "onehot_encoder = OneHotEncoder(sparse=False)\n",
    "labels = onehot_encoder.fit_transform(tmp_labels.reshape(-1, 1))\n",
    "\n",
    "# feature list for reverse transform\n",
    "print(onehot_encoder.get_feature_names())"
   ]
  },
  {
   "cell_type": "code",
   "execution_count": 12,
   "metadata": {},
   "outputs": [],
   "source": [
    "# save processed data for later use\n",
    "np.save('input', imgs)\n",
    "np.save('labels', labels)"
   ]
  },
  {
   "cell_type": "code",
   "execution_count": 17,
   "metadata": {},
   "outputs": [
    {
     "data": {
      "text/plain": [
       "array([[201, 201, 201, ..., 191, 191, 191],\n",
       "       [198, 198, 198, ..., 191, 191, 191],\n",
       "       [197, 197, 198, ..., 192, 192, 192],\n",
       "       ...,\n",
       "       [ 54,  48,  43, ...,  65,  65,  63],\n",
       "       [ 50,  44,  42, ...,  66,  66,  64],\n",
       "       [ 46,  42,  41, ...,  65,  65,  64]], dtype=uint8)"
      ]
     },
     "execution_count": 17,
     "metadata": {},
     "output_type": "execute_result"
    }
   ],
   "source": [
    "input = np.load('input.npy')"
   ]
  },
  {
   "cell_type": "code",
   "execution_count": 18,
   "metadata": {},
   "outputs": [
    {
     "data": {
      "text/plain": [
       "array([[201, 201, 201, ..., 191, 191, 191],\n",
       "       [198, 198, 198, ..., 191, 191, 191],\n",
       "       [197, 197, 198, ..., 192, 192, 192],\n",
       "       ...,\n",
       "       [ 54,  48,  43, ...,  65,  65,  63],\n",
       "       [ 50,  44,  42, ...,  66,  66,  64],\n",
       "       [ 46,  42,  41, ...,  65,  65,  64]], dtype=uint8)"
      ]
     },
     "execution_count": 18,
     "metadata": {},
     "output_type": "execute_result"
    }
   ],
   "source": [
    "input[0]"
   ]
  },
  {
   "cell_type": "code",
   "execution_count": null,
   "metadata": {},
   "outputs": [],
   "source": []
  }
 ],
 "metadata": {
  "kernelspec": {
   "display_name": "Python [conda env:root] *",
   "language": "python",
   "name": "conda-root-py"
  },
  "language_info": {
   "codemirror_mode": {
    "name": "ipython",
    "version": 3
   },
   "file_extension": ".py",
   "mimetype": "text/x-python",
   "name": "python",
   "nbconvert_exporter": "python",
   "pygments_lexer": "ipython3",
   "version": "3.7.3"
  }
 },
 "nbformat": 4,
 "nbformat_minor": 4
}
