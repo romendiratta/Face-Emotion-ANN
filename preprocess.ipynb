{
 "cells": [
  {
   "cell_type": "markdown",
   "metadata": {},
   "source": [
    "## Preprocessing\n",
    "### This code preprocesses the input images and labels. The data is then saved as numpy arrays to be loaded later when training models."
   ]
  },
  {
   "cell_type": "code",
   "execution_count": 1,
   "metadata": {},
   "outputs": [],
   "source": [
    "from os import path\n",
    "import numpy as np\n",
    "import cv2\n",
    "import pandas as pd\n",
    "from sklearn.preprocessing import LabelEncoder\n",
    "from sklearn.preprocessing import OneHotEncoder"
   ]
  },
  {
   "cell_type": "code",
   "execution_count": 2,
   "metadata": {},
   "outputs": [
    {
     "name": "stdout",
     "output_type": "stream",
     "text": [
      "(13690,)\n"
     ]
    }
   ],
   "source": [
    "# read iris.csv\n",
    "legend = pd.read_csv('legend.csv').to_numpy()\n",
    "\n",
    "# split into label and identifiers\n",
    "tmp_labels = legend[:, 2]\n",
    "tmp_pic_names = legend[:, 1]\n",
    "tmp_labels = np.array([i.lower() for i in tmp_labels])\n",
    "print(tmp_pic_names.shape)"
   ]
  },
  {
   "cell_type": "code",
   "execution_count": 3,
   "metadata": {},
   "outputs": [
    {
     "name": "stdout",
     "output_type": "stream",
     "text": [
      "Final Images Matrix Shape:  (13690, 128, 128, 3)\n"
     ]
    }
   ],
   "source": [
    "folder = 'images/'\n",
    "imgs = []\n",
    "for name in tmp_pic_names[:]:\n",
    "    \n",
    "    #read the img\n",
    "    img = cv2.imread(folder+name)\n",
    "    #resize\n",
    "    final_img = cv2.resize(img, (128,128))\n",
    "    \n",
    "    imgs.append(final_img)\n",
    "    \n",
    "imgs = np.array(imgs)\n",
    "print('Final Images Matrix Shape: ', imgs.shape)\n"
   ]
  },
  {
   "cell_type": "code",
   "execution_count": 4,
   "metadata": {},
   "outputs": [
    {
     "name": "stdout",
     "output_type": "stream",
     "text": [
      "['x0_anger' 'x0_contempt' 'x0_disgust' 'x0_fear' 'x0_happiness'\n",
      " 'x0_neutral' 'x0_sadness' 'x0_surprise']\n"
     ]
    }
   ],
   "source": [
    "# autoencode labels for training\n",
    "onehot_encoder = OneHotEncoder(sparse=False)\n",
    "labels = onehot_encoder.fit_transform(tmp_labels.reshape(-1, 1))\n",
    "\n",
    "# feature list for reverse transform\n",
    "print(onehot_encoder.get_feature_names())"
   ]
  },
  {
   "cell_type": "code",
   "execution_count": 5,
   "metadata": {},
   "outputs": [],
   "source": [
    "# save processed data for later use\n",
    "np.save('input', imgs)\n",
    "np.save('labels', labels)"
   ]
  }
 ],
 "metadata": {
  "kernelspec": {
   "display_name": "Python [conda env:root] *",
   "language": "python",
   "name": "conda-root-py"
  },
  "language_info": {
   "codemirror_mode": {
    "name": "ipython",
    "version": 3
   },
   "file_extension": ".py",
   "mimetype": "text/x-python",
   "name": "python",
   "nbconvert_exporter": "python",
   "pygments_lexer": "ipython3",
   "version": "3.7.3"
  }
 },
 "nbformat": 4,
 "nbformat_minor": 4
}
