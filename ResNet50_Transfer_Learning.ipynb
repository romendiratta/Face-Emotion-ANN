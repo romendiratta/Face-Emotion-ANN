{
 "cells": [
  {
   "cell_type": "markdown",
   "metadata": {},
   "source": [
    "## ResNet50 Transfer Learning: No Data Augementation\n",
    "### This notebook contains code to apply transfer learning to the ResNet50 model, with the goal of classifying facial emotions."
   ]
  },
  {
   "cell_type": "code",
   "execution_count": 1,
   "metadata": {
    "colab": {
     "base_uri": "https://localhost:8080/",
     "height": 35
    },
    "id": "Vw7_lP-DS930",
    "outputId": "067252ec-0ee4-4446-8a74-18d3d73235f9"
   },
   "outputs": [
    {
     "name": "stderr",
     "output_type": "stream",
     "text": [
      "Using TensorFlow backend.\n"
     ]
    }
   ],
   "source": [
    "import numpy as np\n",
    "import time\n",
    "import pandas as pd\n",
    "from matplotlib import pyplot as plt\n",
    "\n",
    "# machine learning libraries and functions\n",
    "import tensorflow as tf\n",
    "import keras\n",
    "from keras.models import Model\n",
    "from keras.applications import ResNet50\n",
    "from keras.applications.resnet import preprocess_input\n",
    "from keras.layers import Dense, GlobalAveragePooling2D, Dropout, UpSampling2D, BatchNormalization, InputLayer\n",
    "#from keras.applications.inception_v3 import InceptionV3\n",
    "#from keras.applications.inception_v3 import preprocess_input\n",
    "from keras import Sequential\n",
    "from sklearn.model_selection import train_test_split"
   ]
  },
  {
   "cell_type": "code",
   "execution_count": 2,
   "metadata": {
    "id": "UROzzSP8S94C"
   },
   "outputs": [],
   "source": [
    "# load input images and labels\n",
    "inputs = np.load('input.npz')['arr_0']\n",
    "label = np.load('labels.npz')['arr_0']"
   ]
  },
  {
   "cell_type": "code",
   "execution_count": 3,
   "metadata": {},
   "outputs": [
    {
     "name": "stdout",
     "output_type": "stream",
     "text": [
      "(9583, 128, 128, 3)\n",
      "(9583, 8)\n",
      "(4107, 128, 128, 3)\n",
      "(4107, 8)\n"
     ]
    }
   ],
   "source": [
    "# split input images into training/testing\n",
    "X_train, X_test, Y_train, Y_test = train_test_split(inputs, label, test_size=0.3, random_state=0)\n",
    "\n",
    "# preprocesses images for ResNet50\n",
    "X_train = preprocess_input(X_train)\n",
    "X_test = preprocess_input(X_test)\n",
    "\n",
    "print(X_train.shape)\n",
    "print(Y_train.shape)\n",
    "\n",
    "print(X_test.shape)\n",
    "print(Y_test.shape)"
   ]
  },
  {
   "cell_type": "code",
   "execution_count": 4,
   "metadata": {
    "colab": {
     "base_uri": "https://localhost:8080/"
    },
    "id": "03d_5kPiL-RI",
    "outputId": "9911c487-fa47-4ef2-f48f-dc442964c7fc"
   },
   "outputs": [
    {
     "name": "stderr",
     "output_type": "stream",
     "text": [
      "C:\\ProgramData\\Anaconda3\\lib\\site-packages\\keras_applications\\resnet50.py:265: UserWarning: The output shape of `ResNet50(include_top=False)` has been changed since Keras 2.2.0.\n",
      "  warnings.warn('The output shape of `ResNet50(include_top=False)` '\n"
     ]
    }
   ],
   "source": [
    "# load model for feauture extraction\n",
    "resnet_model = ResNet50(weights='imagenet', include_top=False, input_shape=(128,128,3))\n",
    "#InceptionV3_model = InceptionV3(weights='imagenet', include_top=False, input_shape=(128,128,3))"
   ]
  },
  {
   "cell_type": "code",
   "execution_count": 5,
   "metadata": {},
   "outputs": [],
   "source": [
    "# extract features from training data\n",
    "feature_extraction = resnet_model.predict(X_train)"
   ]
  },
  {
   "cell_type": "code",
   "execution_count": 6,
   "metadata": {},
   "outputs": [],
   "source": [
    "# save feature extraction tensor\n",
    "np.savez_compressed('ResNet50_Feature_Extraction', feature_extraction)"
   ]
  },
  {
   "cell_type": "code",
   "execution_count": 7,
   "metadata": {},
   "outputs": [],
   "source": [
    "# load feature extraction tensor\n",
    "feature_extraction = np.load('ResNet50_Feature_Extraction.npz')['arr_0']"
   ]
  },
  {
   "cell_type": "code",
   "execution_count": 8,
   "metadata": {
    "colab": {
     "base_uri": "https://localhost:8080/"
    },
    "id": "_g1goLdTNIla",
    "outputId": "a616fa4b-5abf-442a-9307-64d134800eba"
   },
   "outputs": [],
   "source": [
    "# get number of classes\n",
    "NUM_CLASSES = label.shape[1]\n",
    "\n",
    "# build trainable model\n",
    "model = Sequential()\n",
    "model.add(GlobalAveragePooling2D())\n",
    "model.add(Dense(256, activation='relu'))\n",
    "model.add(Dropout(.25))\n",
    "model.add(BatchNormalization())\n",
    "model.add(Dense(NUM_CLASSES, activation='softmax'))"
   ]
  },
  {
   "cell_type": "code",
   "execution_count": 9,
   "metadata": {
    "id": "xrK3zypOdVeK"
   },
   "outputs": [],
   "source": [
    "# compile model\n",
    "model.compile(optimizer='rmsprop',\n",
    "              loss='categorical_crossentropy',\n",
    "              metrics=['accuracy'])"
   ]
  },
  {
   "cell_type": "code",
   "execution_count": 10,
   "metadata": {
    "colab": {
     "base_uri": "https://localhost:8080/"
    },
    "id": "oHl5whPOdbgB",
    "outputId": "78b150a8-cb9b-4b09-8dd5-e2663ab77c54"
   },
   "outputs": [
    {
     "name": "stdout",
     "output_type": "stream",
     "text": [
      "Train on 7666 samples, validate on 1917 samples\n",
      "Epoch 1/500\n",
      "20/20 [==============================] - 15s 746ms/step - loss: 1.2106 - accuracy: 0.6849 - val_loss: 1.3418 - val_accuracy: 0.6828\n",
      "Epoch 2/500\n",
      "20/20 [==============================] - 14s 711ms/step - loss: 0.5850 - accuracy: 0.8456 - val_loss: 0.9042 - val_accuracy: 0.7715\n",
      "Epoch 3/500\n",
      "20/20 [==============================] - 13s 673ms/step - loss: 0.3443 - accuracy: 0.9051 - val_loss: 0.8176 - val_accuracy: 0.7439\n",
      "Epoch 4/500\n",
      "20/20 [==============================] - 13s 667ms/step - loss: 0.2176 - accuracy: 0.9381 - val_loss: 0.7535 - val_accuracy: 0.7809\n",
      "Epoch 5/500\n",
      "20/20 [==============================] - 14s 676ms/step - loss: 0.1230 - accuracy: 0.9667 - val_loss: 0.6709 - val_accuracy: 0.7746\n",
      "Epoch 6/500\n",
      "20/20 [==============================] - 15s 728ms/step - loss: 0.0758 - accuracy: 0.9813 - val_loss: 0.6738 - val_accuracy: 0.7851\n",
      "Epoch 7/500\n",
      "20/20 [==============================] - 15s 728ms/step - loss: 0.1156 - accuracy: 0.9646 - val_loss: 0.6620 - val_accuracy: 0.7908\n",
      "Epoch 8/500\n",
      "20/20 [==============================] - 16s 788ms/step - loss: 0.0271 - accuracy: 0.9950 - val_loss: 0.9708 - val_accuracy: 0.7647\n",
      "Epoch 9/500\n",
      "20/20 [==============================] - 14s 714ms/step - loss: 0.0992 - accuracy: 0.9706 - val_loss: 0.7302 - val_accuracy: 0.7866\n",
      "Epoch 10/500\n",
      "20/20 [==============================] - 14s 724ms/step - loss: 0.0664 - accuracy: 0.9793 - val_loss: 0.9238 - val_accuracy: 0.7658\n",
      "Epoch 11/500\n",
      "20/20 [==============================] - 14s 679ms/step - loss: 0.0181 - accuracy: 0.9968 - val_loss: 0.7487 - val_accuracy: 0.7851\n",
      "Epoch 12/500\n",
      "20/20 [==============================] - 14s 678ms/step - loss: 0.0969 - accuracy: 0.9693 - val_loss: 0.8063 - val_accuracy: 0.7637\n",
      "Epoch 13/500\n",
      "20/20 [==============================] - 14s 687ms/step - loss: 0.0145 - accuracy: 0.9983 - val_loss: 0.8290 - val_accuracy: 0.7741\n",
      "Epoch 14/500\n",
      "20/20 [==============================] - 14s 688ms/step - loss: 0.0678 - accuracy: 0.9778 - val_loss: 0.8289 - val_accuracy: 0.7898\n",
      "Epoch 15/500\n",
      "20/20 [==============================] - 16s 790ms/step - loss: 0.0076 - accuracy: 0.9992 - val_loss: 0.8599 - val_accuracy: 0.7887\n",
      "Epoch 16/500\n",
      "20/20 [==============================] - 15s 775ms/step - loss: 0.0836 - accuracy: 0.9737 - val_loss: 0.9677 - val_accuracy: 0.7507\n",
      "Epoch 17/500\n",
      "20/20 [==============================] - 14s 684ms/step - loss: 0.0130 - accuracy: 0.9979 - val_loss: 0.9034 - val_accuracy: 0.7741\n",
      "Epoch 18/500\n",
      "20/20 [==============================] - 14s 676ms/step - loss: 0.0110 - accuracy: 0.9978 - val_loss: 1.0726 - val_accuracy: 0.7209\n",
      "Epoch 19/500\n",
      "20/20 [==============================] - 15s 726ms/step - loss: 0.0791 - accuracy: 0.9757 - val_loss: 0.9240 - val_accuracy: 0.7783\n",
      "Epoch 20/500\n",
      "20/20 [==============================] - 13s 674ms/step - loss: 0.0066 - accuracy: 0.9992 - val_loss: 0.9939 - val_accuracy: 0.7720\n",
      "Epoch 21/500\n",
      "20/20 [==============================] - 14s 675ms/step - loss: 0.0750 - accuracy: 0.9760 - val_loss: 0.9582 - val_accuracy: 0.7778\n",
      "Epoch 22/500\n",
      "20/20 [==============================] - 14s 676ms/step - loss: 0.0071 - accuracy: 0.9990 - val_loss: 1.0106 - val_accuracy: 0.7773\n",
      "Epoch 23/500\n",
      "20/20 [==============================] - 14s 725ms/step - loss: 0.0051 - accuracy: 0.9994 - val_loss: 1.0557 - val_accuracy: 0.7700\n",
      "Epoch 24/500\n",
      "20/20 [==============================] - 16s 790ms/step - loss: 0.0796 - accuracy: 0.9761 - val_loss: 1.0242 - val_accuracy: 0.7736\n",
      "Epoch 25/500\n",
      "20/20 [==============================] - 15s 728ms/step - loss: 0.0055 - accuracy: 0.9993 - val_loss: 1.0808 - val_accuracy: 0.7767\n",
      "Epoch 26/500\n",
      "20/20 [==============================] - 13s 669ms/step - loss: 0.0534 - accuracy: 0.9824 - val_loss: 1.7492 - val_accuracy: 0.7345\n",
      "Epoch 27/500\n",
      "20/20 [==============================] - 14s 703ms/step - loss: 0.0208 - accuracy: 0.9948 - val_loss: 1.0920 - val_accuracy: 0.7736\n",
      "Epoch 28/500\n",
      "20/20 [==============================] - 13s 649ms/step - loss: 0.0058 - accuracy: 0.9992 - val_loss: 1.1277 - val_accuracy: 0.7694\n",
      "Epoch 29/500\n",
      "20/20 [==============================] - 13s 649ms/step - loss: 0.0557 - accuracy: 0.9822 - val_loss: 1.0700 - val_accuracy: 0.7851\n",
      "Epoch 30/500\n",
      "20/20 [==============================] - 13s 648ms/step - loss: 0.0056 - accuracy: 0.9992 - val_loss: 1.1296 - val_accuracy: 0.7799\n",
      "Epoch 31/500\n",
      "20/20 [==============================] - 13s 653ms/step - loss: 0.0229 - accuracy: 0.9927 - val_loss: 2.0545 - val_accuracy: 0.7397\n",
      "Time consumed for 500 epochs: 7.28 mins\n"
     ]
    }
   ],
   "source": [
    "start_time = time.time()\n",
    "\n",
    "EPOCHS = 500\n",
    "STEPS_PER_EPOCH = 20\n",
    "VALIDATION_STEPS = 1\n",
    "\n",
    "# save weights with best validation accuracy\n",
    "checkpoint_filepath = './ResNet50_Top.checkpoint'\n",
    "model_checkpoint_callback = keras.callbacks.ModelCheckpoint(\n",
    "    filepath=checkpoint_filepath,\n",
    "    save_weights_only=True,\n",
    "    monitor='val_accuracy',\n",
    "    mode='max',\n",
    "    save_best_only=True)\n",
    "\n",
    "# stop training when validation accuracy stops improving\n",
    "early_stopping_callback = keras.callbacks.EarlyStopping(\n",
    "    monitor='val_accuracy',\n",
    "    min_delta=0.01,\n",
    "    patience=25,\n",
    "    mode='auto',\n",
    "    restore_best_weights=True)\n",
    "\n",
    "# train model\n",
    "history = model.fit(\n",
    "    x=feature_extraction, y=Y_train,\n",
    "    epochs=EPOCHS,\n",
    "    steps_per_epoch=STEPS_PER_EPOCH,\n",
    "    validation_steps=VALIDATION_STEPS,\n",
    "    validation_split=0.2,\n",
    "    shuffle=True,\n",
    "    callbacks=[model_checkpoint_callback, early_stopping_callback])\n",
    "  \n",
    "print(f\"Time consumed for {EPOCHS} epochs: {(time.time() - start_time )/60 // 0.01 * 0.01} mins\")"
   ]
  },
  {
   "cell_type": "code",
   "execution_count": 11,
   "metadata": {},
   "outputs": [],
   "source": [
    "# load weights with best validation accuracy\n",
    "model.load_weights(checkpoint_filepath)"
   ]
  },
  {
   "cell_type": "code",
   "execution_count": 12,
   "metadata": {
    "colab": {
     "base_uri": "https://localhost:8080/",
     "height": 545
    },
    "id": "4mVbRbbffqty",
    "outputId": "2255306f-4e42-475f-c67c-0bacd91ae6c3"
   },
   "outputs": [
    {
     "data": {
      "image/png": "[encoded data removed]",
      "text/plain": [
       "<Figure size 432x288 with 1 Axes>"
      ]
     },
     "metadata": {
      "needs_background": "light"
     },
     "output_type": "display_data"
    },
    {
     "data": {
      "image/png": "[encoded data removed]",
      "text/plain": [
       "<Figure size 432x288 with 1 Axes>"
      ]
     },
     "metadata": {
      "needs_background": "light"
     },
     "output_type": "display_data"
    }
   ],
   "source": [
    "# visualize training statistics\n",
    "acc = history.history['accuracy']\n",
    "loss = history.history['loss']\n",
    "val_acc = history.history['val_accuracy']\n",
    "val_loss = history.history['val_loss']\n",
    "epochs = range(1,len(acc)+1)\n",
    "\n",
    "plt.plot(epochs, val_acc,'r', label = 'Validation')\n",
    "plt.plot(epochs, acc,'b', label = 'Train')\n",
    "plt.title(\"Training Accuracy\")\n",
    "plt.legend()\n",
    "\n",
    "plt.figure()\n",
    "plt.plot(epochs, val_loss,'r', label = 'Validation')\n",
    "plt.plot(epochs,loss,'b', label = 'Train')\n",
    "plt.title(\"Training Loss\")\n",
    "\n",
    "plt.legend()\n",
    "plt.show()"
   ]
  },
  {
   "cell_type": "code",
   "execution_count": 13,
   "metadata": {},
   "outputs": [],
   "source": [
    "# combine ResNet50 base model with trained layers\n",
    "out = model(resnet_model.outputs)\n",
    "transfer_model = Model(inputs=resnet_model.inputs, outputs=out)\n",
    "\n",
    "transfer_model.compile(optimizer='rmsprop',\n",
    "              loss='categorical_crossentropy',\n",
    "              metrics=['accuracy'])"
   ]
  },
  {
   "cell_type": "code",
   "execution_count": 14,
   "metadata": {
    "colab": {
     "base_uri": "https://localhost:8080/"
    },
    "id": "fEVviCSif7lB",
    "outputId": "1d9a0502-763e-4dc1-adfc-4e78e6fefc91"
   },
   "outputs": [
    {
     "name": "stdout",
     "output_type": "stream",
     "text": [
      "4107/4107 [==============================] - 424s 103ms/step\n"
     ]
    }
   ],
   "source": [
    "# test full model\n",
    "evaluation = transfer_model.evaluate(x = X_test, y = Y_test)"
   ]
  },
  {
   "cell_type": "code",
   "execution_count": 15,
   "metadata": {
    "id": "RmvNMpOuXSkl"
   },
   "outputs": [
    {
     "name": "stdout",
     "output_type": "stream",
     "text": [
      "['loss', 'accuracy']\n",
      "[0.6758737667527894, 0.7815924286842346]\n"
     ]
    }
   ],
   "source": [
    "print(transfer_model.metrics_names)\n",
    "print(evaluation)"
   ]
  }
 ],
 "metadata": {
  "accelerator": "GPU",
  "colab": {
   "collapsed_sections": [],
   "name": "ResNet_Transfer_Learning.ipynb",
   "provenance": []
  },
  "kernelspec": {
   "display_name": "Python 3",
   "language": "python",
   "name": "python3"
  },
  "language_info": {
   "codemirror_mode": {
    "name": "ipython",
    "version": 3
   },
   "file_extension": ".py",
   "mimetype": "text/x-python",
   "name": "python",
   "nbconvert_exporter": "python",
   "pygments_lexer": "ipython3",
   "version": "3.7.3"
  }
 },
 "nbformat": 4,
 "nbformat_minor": 1
}
