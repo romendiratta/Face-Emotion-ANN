{
 "cells": [
  {
   "cell_type": "code",
   "execution_count": 1,
   "metadata": {
    "id": "Vw7_lP-DS930"
   },
   "outputs": [],
   "source": [
    "from os import path\n",
    "import numpy as np\n",
    "import cv2\n",
    "import time\n",
    "import pandas as pd\n",
    "from sklearn.preprocessing import LabelEncoder\n",
    "from sklearn.preprocessing import OneHotEncoder\n",
    "from matplotlib import pyplot as plt\n",
    "import tensorflow as tf\n",
    "tf.test.gpu_device_name()\n",
    "from sklearn.model_selection import train_test_split\n"
   ]
  },
  {
   "cell_type": "code",
   "execution_count": 4,
   "metadata": {
    "colab": {
     "base_uri": "https://localhost:8080/"
    },
    "id": "9mkvSGDlS933",
    "outputId": "48516cd9-ff96-4936-9c3a-ad89a7336726"
   },
   "outputs": [
    {
     "name": "stdout",
     "output_type": "stream",
     "text": [
      "(13690,)\n"
     ]
    }
   ],
   "source": [
    "path = 'drive/Shared drives/539Final/'\n",
    "# read iris.csv\n",
    "#legend = pd.read_csv(path + 'legend.csv').to_numpy()\n",
    "legend = pd.read_csv('legend.csv').to_numpy()\n",
    "\n",
    "\n",
    "# split into label and identifiers\n",
    "tmp_labels = legend[:, 2]\n",
    "tmp_pic_names = legend[:, 1]\n",
    "tmp_labels = np.array([i.lower() for i in tmp_labels])\n",
    "print(tmp_pic_names.shape)"
   ]
  },
  {
   "cell_type": "code",
   "execution_count": 5,
   "metadata": {
    "id": "5Vz8QxFyS937"
   },
   "outputs": [],
   "source": [
    "import os\n",
    "from shutil import copyfile\n",
    "\n",
    "name_train, name_test, label_train, label_test = train_test_split(tmp_pic_names, tmp_labels, test_size=0.3, random_state=0)\n",
    "\n",
    "#Training Data Prep\n",
    "folder = 'training_data/'\n",
    "original_folder = 'images/'\n",
    "\n",
    "#making the training folder\n",
    "os.mkdir(folder)\n",
    "\n",
    "for index in range(len(name_train)):\n",
    "    folder_name = folder + label_train[index]\n",
    "    orig_file_name = original_folder + name_train[index]\n",
    "    new_file_name = folder_name + '/' + name_train[index]\n",
    "\n",
    "    if os.path.exists(folder_name):\n",
    "        copyfile(orig_file_name, new_file_name)\n",
    "    else:\n",
    "        os.mkdir(folder_name)\n",
    "\n",
    "#Test Data Prep\n",
    "folder = 'testing_data/'\n",
    "original_folder = 'images/'\n",
    "\n",
    "#making the training folder\n",
    "os.mkdir(folder)\n",
    "\n",
    "for index in range(len(name_test)):\n",
    "    folder_name = folder + label_test[index]\n",
    "    orig_file_name = original_folder + name_test[index]\n",
    "    new_file_name = folder_name + '/' + name_test[index]\n",
    "\n",
    "    if os.path.exists(folder_name):\n",
    "        copyfile(orig_file_name, new_file_name)\n",
    "    else:\n",
    "        os.mkdir(folder_name)\n"
   ]
  },
  {
   "cell_type": "code",
   "execution_count": 6,
   "metadata": {
    "colab": {
     "base_uri": "https://localhost:8080/"
    },
    "id": "03d_5kPiL-RI",
    "outputId": "6352e441-4475-43f1-d9fd-50cf09fb3386"
   },
   "outputs": [
    {
     "name": "stdout",
     "output_type": "stream",
     "text": [
      "Downloading data from https://storage.googleapis.com/tensorflow/keras-applications/resnet/resnet50_weights_tf_dim_ordering_tf_kernels_notop.h5\n",
      "94773248/94765736 [==============================] - 1s 0us/step\n"
     ]
    }
   ],
   "source": [
    "#import model from keras\n",
    "from keras.models import Model\n",
    "from keras.applications import ResNet50\n",
    "from keras.layers import Dense, GlobalAveragePooling2D, Dropout, UpSampling2D, BatchNormalization\n",
    "from keras.applications.inception_v3 import InceptionV3\n",
    "#from keras.applications.inception_v3 import preprocess_input\n",
    "from keras.applications.resnet import preprocess_input\n",
    "from keras import Sequential\n",
    "\n",
    "resnet_model = ResNet50(weights='imagenet', include_top=False, input_shape=(128,128,3))\n",
    "#InceptionV3_model = InceptionV3(weights='imagenet', include_top=False, input_shape=(128,128,3))\n"
   ]
  },
  {
   "cell_type": "code",
   "execution_count": 7,
   "metadata": {
    "colab": {
     "base_uri": "https://localhost:8080/"
    },
    "id": "tn6ZYlrI84gv",
    "outputId": "a94887a4-ac79-4562-c111-d28858ca8ef9"
   },
   "outputs": [
    {
     "name": "stdout",
     "output_type": "stream",
     "text": [
      "Found 9572 images belonging to 8 classes.\n",
      "Found 4098 images belonging to 8 classes.\n"
     ]
    }
   ],
   "source": [
    "from keras.preprocessing.image import ImageDataGenerator\n",
    "\n",
    "train_generator = ImageDataGenerator(rotation_range=90,\n",
    "                             width_shift_range=0.1,\n",
    "                             height_shift_range=0.1,\n",
    "                             zoom_range=0.3,\n",
    "                             horizontal_flip = True,\n",
    "                             preprocessing_function=preprocess_input)\n",
    "\n",
    "test_generator = ImageDataGenerator(preprocessing_function=preprocess_input)\n",
    "\n",
    "\n",
    "training_flow = train_generator.flow_from_directory('training_data', batch_size=32)\n",
    "testing_flow = test_generator.flow_from_directory('testing_data', batch_size=32)"
   ]
  },
  {
   "cell_type": "code",
   "execution_count": 11,
   "metadata": {
    "colab": {
     "base_uri": "https://localhost:8080/"
    },
    "id": "_g1goLdTNIla",
    "outputId": "9231d57c-447f-4a3c-df4b-38eed6605723"
   },
   "outputs": [
    {
     "name": "stdout",
     "output_type": "stream",
     "text": [
      "Classes: 8\n"
     ]
    }
   ],
   "source": [
    "CLASSES = 8\n",
    "print('Classes:', CLASSES)\n",
    "\n",
    "model = Sequential()\n",
    "model.add(resnet_model)\n",
    "#model.add(InceptionV3_model)\n",
    "model.add(GlobalAveragePooling2D())\n",
    "model.add(Dense(256, activation='relu'))\n",
    "model.add(Dropout(.25))\n",
    "model.add(BatchNormalization())\n",
    "model.add(Dense(CLASSES, activation='softmax'))\n",
    "\n",
    "for layer in resnet_model.layers:\n",
    "    #if isinstance(layer, BatchNormalization):\n",
    "        #layer.trainable = True\n",
    "    #else:\n",
    "    layer.trainable = False"
   ]
  },
  {
   "cell_type": "code",
   "execution_count": 12,
   "metadata": {
    "id": "xrK3zypOdVeK"
   },
   "outputs": [],
   "source": [
    "model.compile(optimizer='rmsprop',\n",
    "              loss='categorical_crossentropy',\n",
    "              metrics=['accuracy'])"
   ]
  },
  {
   "cell_type": "code",
   "execution_count": 27,
   "metadata": {
    "colab": {
     "base_uri": "https://localhost:8080/"
    },
    "id": "oHl5whPOdbgB",
    "outputId": "faa6be6b-4b87-4c4d-b873-92794cbad67f"
   },
   "outputs": [
    {
     "name": "stdout",
     "output_type": "stream",
     "text": [
      "Epoch 1/100\n",
      "100/100 [==============================] - 47s 465ms/step - loss: 0.6041 - accuracy: 0.7755\n",
      "Epoch 2/100\n",
      "100/100 [==============================] - 47s 470ms/step - loss: 0.5893 - accuracy: 0.7769\n",
      "Epoch 3/100\n",
      "100/100 [==============================] - 47s 469ms/step - loss: 0.6055 - accuracy: 0.7741\n",
      "Epoch 4/100\n",
      "100/100 [==============================] - 47s 468ms/step - loss: 0.6209 - accuracy: 0.7609\n",
      "Epoch 5/100\n",
      "100/100 [==============================] - 47s 469ms/step - loss: 0.5996 - accuracy: 0.7750\n",
      "Epoch 6/100\n",
      "100/100 [==============================] - 47s 469ms/step - loss: 0.6004 - accuracy: 0.7716\n",
      "Epoch 7/100\n",
      "100/100 [==============================] - 46s 463ms/step - loss: 0.5990 - accuracy: 0.7768\n",
      "Epoch 8/100\n",
      "100/100 [==============================] - 47s 467ms/step - loss: 0.6184 - accuracy: 0.7659\n",
      "Epoch 9/100\n",
      "100/100 [==============================] - 47s 468ms/step - loss: 0.6116 - accuracy: 0.7659\n",
      "Epoch 10/100\n",
      "100/100 [==============================] - 47s 466ms/step - loss: 0.6154 - accuracy: 0.7603\n",
      "Epoch 11/100\n",
      "100/100 [==============================] - 47s 466ms/step - loss: 0.6168 - accuracy: 0.7697\n",
      "Epoch 12/100\n",
      "100/100 [==============================] - 47s 467ms/step - loss: 0.5937 - accuracy: 0.7766\n",
      "Epoch 13/100\n",
      "100/100 [==============================] - 47s 471ms/step - loss: 0.5806 - accuracy: 0.7797\n",
      "Epoch 14/100\n",
      "100/100 [==============================] - 47s 466ms/step - loss: 0.6021 - accuracy: 0.7713\n",
      "Epoch 15/100\n",
      "100/100 [==============================] - 46s 461ms/step - loss: 0.5947 - accuracy: 0.7812\n",
      "Epoch 16/100\n",
      "100/100 [==============================] - 46s 462ms/step - loss: 0.5941 - accuracy: 0.7787\n",
      "Epoch 17/100\n",
      "100/100 [==============================] - 46s 461ms/step - loss: 0.6211 - accuracy: 0.7654\n",
      "Epoch 18/100\n",
      "100/100 [==============================] - 47s 465ms/step - loss: 0.6013 - accuracy: 0.7725\n",
      "Epoch 19/100\n",
      "100/100 [==============================] - 47s 468ms/step - loss: 0.6087 - accuracy: 0.7609\n",
      "Epoch 20/100\n",
      "100/100 [==============================] - 46s 461ms/step - loss: 0.6051 - accuracy: 0.7677\n",
      "Epoch 21/100\n",
      "100/100 [==============================] - 46s 465ms/step - loss: 0.6256 - accuracy: 0.7694\n",
      "Epoch 22/100\n",
      "100/100 [==============================] - 47s 465ms/step - loss: 0.5853 - accuracy: 0.7834\n",
      "Epoch 23/100\n",
      "100/100 [==============================] - 46s 464ms/step - loss: 0.5943 - accuracy: 0.7828\n",
      "Epoch 24/100\n",
      "100/100 [==============================] - 47s 466ms/step - loss: 0.6025 - accuracy: 0.7772\n",
      "Epoch 25/100\n",
      "100/100 [==============================] - 46s 465ms/step - loss: 0.6170 - accuracy: 0.7725\n",
      "Epoch 26/100\n",
      "100/100 [==============================] - 46s 464ms/step - loss: 0.6372 - accuracy: 0.7639\n",
      "Epoch 27/100\n",
      "100/100 [==============================] - 46s 462ms/step - loss: 0.5920 - accuracy: 0.7749\n",
      "Epoch 28/100\n",
      "100/100 [==============================] - 47s 465ms/step - loss: 0.6070 - accuracy: 0.7759\n",
      "Epoch 29/100\n",
      "100/100 [==============================] - 47s 466ms/step - loss: 0.5862 - accuracy: 0.7828\n",
      "Epoch 30/100\n",
      "100/100 [==============================] - 46s 465ms/step - loss: 0.5700 - accuracy: 0.7803\n",
      "Epoch 31/100\n",
      "100/100 [==============================] - 46s 462ms/step - loss: 0.5997 - accuracy: 0.7762\n",
      "Epoch 32/100\n",
      "100/100 [==============================] - 47s 467ms/step - loss: 0.6123 - accuracy: 0.7697\n",
      "Epoch 33/100\n",
      "100/100 [==============================] - 47s 465ms/step - loss: 0.5941 - accuracy: 0.7781\n",
      "Epoch 34/100\n",
      "100/100 [==============================] - 46s 461ms/step - loss: 0.5784 - accuracy: 0.7929\n",
      "Epoch 35/100\n",
      "100/100 [==============================] - 46s 464ms/step - loss: 0.6005 - accuracy: 0.7809\n",
      "Epoch 36/100\n",
      "100/100 [==============================] - 46s 461ms/step - loss: 0.5994 - accuracy: 0.7777\n",
      "Epoch 37/100\n",
      "100/100 [==============================] - 46s 465ms/step - loss: 0.6036 - accuracy: 0.7719\n",
      "Epoch 38/100\n",
      "100/100 [==============================] - 46s 465ms/step - loss: 0.5798 - accuracy: 0.7797\n",
      "Epoch 39/100\n",
      "100/100 [==============================] - 47s 467ms/step - loss: 0.5745 - accuracy: 0.7844\n",
      "Epoch 40/100\n",
      "100/100 [==============================] - 46s 464ms/step - loss: 0.5826 - accuracy: 0.7809\n",
      "Epoch 41/100\n",
      "100/100 [==============================] - 46s 465ms/step - loss: 0.5836 - accuracy: 0.7725\n",
      "Epoch 42/100\n",
      "100/100 [==============================] - 46s 464ms/step - loss: 0.5974 - accuracy: 0.7862\n",
      "Epoch 43/100\n",
      "100/100 [==============================] - 46s 461ms/step - loss: 0.6021 - accuracy: 0.7771\n",
      "Epoch 44/100\n",
      "100/100 [==============================] - 46s 463ms/step - loss: 0.5936 - accuracy: 0.7831\n",
      "Epoch 45/100\n",
      "100/100 [==============================] - 46s 464ms/step - loss: 0.5952 - accuracy: 0.7775\n",
      "Epoch 46/100\n",
      "100/100 [==============================] - 46s 461ms/step - loss: 0.5980 - accuracy: 0.7825\n",
      "Epoch 47/100\n",
      "100/100 [==============================] - 46s 463ms/step - loss: 0.6056 - accuracy: 0.7669\n",
      "Epoch 48/100\n",
      "100/100 [==============================] - 46s 464ms/step - loss: 0.5937 - accuracy: 0.7734\n",
      "Epoch 49/100\n",
      "100/100 [==============================] - 47s 466ms/step - loss: 0.6167 - accuracy: 0.7631\n",
      "Epoch 50/100\n",
      "100/100 [==============================] - 46s 462ms/step - loss: 0.6081 - accuracy: 0.7670\n",
      "Epoch 51/100\n",
      "100/100 [==============================] - 47s 466ms/step - loss: 0.6121 - accuracy: 0.7719\n",
      "Epoch 52/100\n",
      "100/100 [==============================] - 46s 463ms/step - loss: 0.6152 - accuracy: 0.7699\n",
      "Epoch 53/100\n",
      "100/100 [==============================] - 46s 464ms/step - loss: 0.6124 - accuracy: 0.7650\n",
      "Epoch 54/100\n",
      "100/100 [==============================] - 46s 464ms/step - loss: 0.5941 - accuracy: 0.7778\n",
      "Epoch 55/100\n",
      "100/100 [==============================] - 46s 464ms/step - loss: 0.5894 - accuracy: 0.7816\n",
      "Epoch 56/100\n",
      "100/100 [==============================] - 46s 465ms/step - loss: 0.5698 - accuracy: 0.7822\n",
      "Epoch 57/100\n",
      "100/100 [==============================] - 47s 465ms/step - loss: 0.5926 - accuracy: 0.7784\n",
      "Epoch 58/100\n",
      "100/100 [==============================] - 47s 465ms/step - loss: 0.6089 - accuracy: 0.7703\n",
      "Epoch 59/100\n",
      "100/100 [==============================] - 47s 468ms/step - loss: 0.6065 - accuracy: 0.7788\n",
      "Epoch 60/100\n",
      "100/100 [==============================] - 46s 465ms/step - loss: 0.5764 - accuracy: 0.7844\n",
      "Epoch 61/100\n",
      "100/100 [==============================] - 47s 466ms/step - loss: 0.5899 - accuracy: 0.7825\n",
      "Epoch 62/100\n",
      "100/100 [==============================] - 46s 464ms/step - loss: 0.5876 - accuracy: 0.7763\n",
      "Epoch 63/100\n",
      "100/100 [==============================] - 46s 461ms/step - loss: 0.6095 - accuracy: 0.7636\n",
      "Epoch 64/100\n",
      "100/100 [==============================] - 46s 464ms/step - loss: 0.5804 - accuracy: 0.7691\n",
      "Epoch 65/100\n",
      "100/100 [==============================] - 46s 463ms/step - loss: 0.6143 - accuracy: 0.7743\n",
      "Epoch 66/100\n",
      "100/100 [==============================] - 46s 464ms/step - loss: 0.6207 - accuracy: 0.7663\n",
      "Epoch 67/100\n",
      "100/100 [==============================] - 46s 464ms/step - loss: 0.5921 - accuracy: 0.7722\n",
      "Epoch 68/100\n",
      "100/100 [==============================] - 47s 467ms/step - loss: 0.5994 - accuracy: 0.7778\n",
      "Epoch 69/100\n",
      "100/100 [==============================] - 46s 462ms/step - loss: 0.5951 - accuracy: 0.7771\n",
      "Epoch 70/100\n",
      "100/100 [==============================] - 47s 466ms/step - loss: 0.6059 - accuracy: 0.7728\n",
      "Epoch 71/100\n",
      "100/100 [==============================] - 47s 466ms/step - loss: 0.5886 - accuracy: 0.7809\n",
      "Epoch 72/100\n",
      "100/100 [==============================] - 47s 470ms/step - loss: 0.5936 - accuracy: 0.7759\n",
      "Epoch 73/100\n",
      "100/100 [==============================] - 47s 468ms/step - loss: 0.5979 - accuracy: 0.7734\n",
      "Epoch 74/100\n",
      "100/100 [==============================] - 47s 466ms/step - loss: 0.6010 - accuracy: 0.7703\n",
      "Epoch 75/100\n",
      "100/100 [==============================] - 47s 468ms/step - loss: 0.5991 - accuracy: 0.7778\n",
      "Epoch 76/100\n",
      "100/100 [==============================] - 46s 463ms/step - loss: 0.6023 - accuracy: 0.7736\n",
      "Epoch 77/100\n",
      "100/100 [==============================] - 47s 467ms/step - loss: 0.5628 - accuracy: 0.7891\n",
      "Epoch 78/100\n",
      "100/100 [==============================] - 46s 465ms/step - loss: 0.6117 - accuracy: 0.7765\n",
      "Epoch 79/100\n",
      "100/100 [==============================] - 47s 465ms/step - loss: 0.6116 - accuracy: 0.7728\n",
      "Epoch 80/100\n",
      "100/100 [==============================] - 46s 461ms/step - loss: 0.5835 - accuracy: 0.7774\n",
      "Epoch 81/100\n",
      "100/100 [==============================] - 46s 461ms/step - loss: 0.5892 - accuracy: 0.7822\n",
      "Epoch 82/100\n",
      "100/100 [==============================] - 47s 467ms/step - loss: 0.6039 - accuracy: 0.7778\n",
      "Epoch 83/100\n",
      "100/100 [==============================] - 46s 461ms/step - loss: 0.5750 - accuracy: 0.7869\n",
      "Epoch 84/100\n",
      "100/100 [==============================] - 46s 462ms/step - loss: 0.5942 - accuracy: 0.7831\n",
      "Epoch 85/100\n",
      "100/100 [==============================] - 47s 467ms/step - loss: 0.5936 - accuracy: 0.7784\n",
      "Epoch 86/100\n",
      "100/100 [==============================] - 46s 462ms/step - loss: 0.6092 - accuracy: 0.7755\n",
      "Epoch 87/100\n",
      "100/100 [==============================] - 46s 462ms/step - loss: 0.6033 - accuracy: 0.7831\n",
      "Epoch 88/100\n",
      "100/100 [==============================] - 46s 465ms/step - loss: 0.6112 - accuracy: 0.7688\n",
      "Epoch 89/100\n",
      "100/100 [==============================] - 46s 463ms/step - loss: 0.5992 - accuracy: 0.7743\n",
      "Epoch 90/100\n",
      "100/100 [==============================] - 47s 467ms/step - loss: 0.5828 - accuracy: 0.7772\n",
      "Epoch 91/100\n",
      "100/100 [==============================] - 47s 467ms/step - loss: 0.6083 - accuracy: 0.7678\n",
      "Epoch 92/100\n",
      "100/100 [==============================] - 47s 465ms/step - loss: 0.5755 - accuracy: 0.7872\n",
      "Epoch 93/100\n",
      "100/100 [==============================] - 46s 460ms/step - loss: 0.5909 - accuracy: 0.7853\n",
      "Epoch 94/100\n",
      "100/100 [==============================] - 46s 462ms/step - loss: 0.6149 - accuracy: 0.7746\n",
      "Epoch 95/100\n",
      "100/100 [==============================] - 46s 464ms/step - loss: 0.5974 - accuracy: 0.7772\n",
      "Epoch 96/100\n",
      "100/100 [==============================] - 46s 464ms/step - loss: 0.6272 - accuracy: 0.7688\n",
      "Epoch 97/100\n",
      "100/100 [==============================] - 46s 463ms/step - loss: 0.6103 - accuracy: 0.7759\n",
      "Epoch 98/100\n",
      "100/100 [==============================] - 47s 466ms/step - loss: 0.5847 - accuracy: 0.7816\n",
      "Epoch 99/100\n",
      "100/100 [==============================] - 46s 461ms/step - loss: 0.6190 - accuracy: 0.7733\n",
      "Epoch 100/100\n",
      "100/100 [==============================] - 46s 465ms/step - loss: 0.5985 - accuracy: 0.7850\n",
      "Time consumed for 100 epochs: 78.95 mins\n"
     ]
    }
   ],
   "source": [
    "start_time = time.time()\n",
    "EPOCHS = 100\n",
    "STEPS_PER_EPOCH = 100\n",
    "MODEL_FILE = 'final_test1.model'\n",
    "\n",
    "history = model.fit(\n",
    "    training_flow,\n",
    "    epochs=EPOCHS,\n",
    "    steps_per_epoch=STEPS_PER_EPOCH,\n",
    ")\n",
    "  \n",
    "print(f\"Time consumed for {EPOCHS} epochs: {(time.time() - start_time )/60 // 0.01 * 0.01} mins\")"
   ]
  },
  {
   "cell_type": "code",
   "execution_count": 29,
   "metadata": {
    "colab": {
     "base_uri": "https://localhost:8080/"
    },
    "id": "T4bResmtUmaD",
    "outputId": "2b15b5f8-0565-4642-9a4b-972b983b8d61"
   },
   "outputs": [
    {
     "name": "stdout",
     "output_type": "stream",
     "text": [
      "INFO:tensorflow:Assets written to: final_test1.model/assets\n"
     ]
    }
   ],
   "source": [
    "model.save(MODEL_FILE)"
   ]
  },
  {
   "cell_type": "code",
   "execution_count": 30,
   "metadata": {
    "colab": {
     "base_uri": "https://localhost:8080/",
     "height": 545
    },
    "id": "4mVbRbbffqty",
    "outputId": "de025d4b-f571-4dbb-dfa6-192bb8c226f0"
   },
   "outputs": [
    {
     "data": {
      "image/png": "[encoded data removed]",
      "text/plain": [
       "<Figure size 432x288 with 1 Axes>"
      ]
     },
     "metadata": {
      "needs_background": "light",
      "tags": []
     },
     "output_type": "display_data"
    },
    {
     "data": {
      "image/png": "[encoded data removed]",
      "text/plain": [
       "<Figure size 432x288 with 1 Axes>"
      ]
     },
     "metadata": {
      "needs_background": "light",
      "tags": []
     },
     "output_type": "display_data"
    }
   ],
   "source": [
    "import matplotlib.pyplot as plt\n",
    "acc += history.history['accuracy']\n",
    "loss += history.history['loss']\n",
    "epochs = range(1,len(acc)+1)\n",
    "\n",
    "plt.plot(epochs, acc,'b', label = 'Train')\n",
    "plt.title(\"Training Accuracy\")\n",
    "plt.legend()\n",
    "\n",
    "plt.figure()\n",
    "plt.plot(epochs,loss,'b', label = 'Train')\n",
    "plt.title(\"Training Loss\")\n",
    "\n",
    "plt.legend()\n",
    "plt.show()"
   ]
  },
  {
   "cell_type": "code",
   "execution_count": 31,
   "metadata": {
    "colab": {
     "base_uri": "https://localhost:8080/"
    },
    "id": "fEVviCSif7lB",
    "outputId": "2cc77815-79d7-44d3-86a4-fa3d55c4a0bb"
   },
   "outputs": [
    {
     "name": "stdout",
     "output_type": "stream",
     "text": [
      "129/129 [==============================] - 17s 129ms/step - loss: 0.5882 - accuracy: 0.7997\n"
     ]
    }
   ],
   "source": [
    " #test result\n",
    " test = model.evaluate(testing_flow)"
   ]
  },
  {
   "cell_type": "code",
   "execution_count": null,
   "metadata": {
    "id": "RmvNMpOuXSkl"
   },
   "outputs": [],
   "source": []
  }
 ],
 "metadata": {
  "accelerator": "GPU",
  "colab": {
   "collapsed_sections": [],
   "name": "Augmentation ResNet_Transfer_Learning.ipynb",
   "provenance": []
  },
  "kernelspec": {
   "display_name": "Python 3",
   "language": "python",
   "name": "python3"
  },
  "language_info": {
   "codemirror_mode": {
    "name": "ipython",
    "version": 3
   },
   "file_extension": ".py",
   "mimetype": "text/x-python",
   "name": "python",
   "nbconvert_exporter": "python",
   "pygments_lexer": "ipython3",
   "version": "3.7.8"
  }
 },
 "nbformat": 4,
 "nbformat_minor": 1
}
