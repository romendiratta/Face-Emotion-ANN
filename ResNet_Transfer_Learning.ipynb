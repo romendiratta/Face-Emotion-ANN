{
 "cells": [
  {
   "cell_type": "markdown",
   "metadata": {},
   "source": [
    "## ResNet50 Transfer Learning: No Data Augementation\n",
    "### This notebook contains code to apply transfer learning to the ResNet50 model, with the goal of classifying facial emotions."
   ]
  },
  {
   "cell_type": "code",
   "execution_count": 1,
   "metadata": {
    "colab": {
     "base_uri": "https://localhost:8080/",
     "height": 35
    },
    "id": "Vw7_lP-DS930",
    "outputId": "067252ec-0ee4-4446-8a74-18d3d73235f9"
   },
   "outputs": [
    {
     "name": "stderr",
     "output_type": "stream",
     "text": [
      "Using TensorFlow backend.\n"
     ]
    }
   ],
   "source": [
    "import numpy as np\n",
    "import time\n",
    "import pandas as pd\n",
    "from matplotlib import pyplot as plt\n",
    "\n",
    "# machine learning libraries and functions\n",
    "import tensorflow as tf\n",
    "import keras\n",
    "from keras.models import Model\n",
    "from keras.applications import ResNet50\n",
    "from keras.applications.resnet import preprocess_input\n",
    "from keras.layers import Dense, GlobalAveragePooling2D, Dropout, UpSampling2D, BatchNormalization, InputLayer\n",
    "#from keras.applications.inception_v3 import InceptionV3\n",
    "#from keras.applications.inception_v3 import preprocess_input\n",
    "from keras import Sequential\n",
    "from sklearn.model_selection import train_test_split"
   ]
  },
  {
   "cell_type": "code",
   "execution_count": 2,
   "metadata": {
    "id": "UROzzSP8S94C"
   },
   "outputs": [],
   "source": [
    "# load input images and labels\n",
    "inputs = np.load('input.npy')\n",
    "label = np.load('labels.npy')"
   ]
  },
  {
   "cell_type": "code",
   "execution_count": 3,
   "metadata": {},
   "outputs": [
    {
     "name": "stdout",
     "output_type": "stream",
     "text": [
      "(9583, 128, 128, 3)\n",
      "(9583, 8)\n",
      "(4107, 128, 128, 3)\n",
      "(4107, 8)\n"
     ]
    }
   ],
   "source": [
    "# split input images into training/testing\n",
    "X_train, X_test, Y_train, Y_test = train_test_split(inputs, label, test_size=0.3, random_state=0)\n",
    "\n",
    "# preprocesses images for ResNet50\n",
    "X_train = preprocess_input(X_train)\n",
    "X_test = preprocess_input(X_test)\n",
    "\n",
    "print(X_train.shape)\n",
    "print(Y_train.shape)\n",
    "\n",
    "print(X_test.shape)\n",
    "print(Y_test.shape)"
   ]
  },
  {
   "cell_type": "code",
   "execution_count": 4,
   "metadata": {
    "colab": {
     "base_uri": "https://localhost:8080/"
    },
    "id": "03d_5kPiL-RI",
    "outputId": "9911c487-fa47-4ef2-f48f-dc442964c7fc"
   },
   "outputs": [
    {
     "name": "stderr",
     "output_type": "stream",
     "text": [
      "C:\\ProgramData\\Anaconda3\\lib\\site-packages\\keras_applications\\resnet50.py:265: UserWarning: The output shape of `ResNet50(include_top=False)` has been changed since Keras 2.2.0.\n",
      "  warnings.warn('The output shape of `ResNet50(include_top=False)` '\n"
     ]
    }
   ],
   "source": [
    "# load model for feauture extraction\n",
    "resnet_model = ResNet50(weights='imagenet', include_top=False, input_shape=(128,128,3))\n",
    "#InceptionV3_model = InceptionV3(weights='imagenet', include_top=False, input_shape=(128,128,3))"
   ]
  },
  {
   "cell_type": "code",
   "execution_count": null,
   "metadata": {},
   "outputs": [],
   "source": [
    "# extract features from training data\n",
    "feature_extraction = resnet_model.predict(X_train)"
   ]
  },
  {
   "cell_type": "code",
   "execution_count": null,
   "metadata": {},
   "outputs": [],
   "source": [
    "# save feature extraction tensor\n",
    "np.save('ResNet50_feature_extraction', feature_extraction)"
   ]
  },
  {
   "cell_type": "code",
   "execution_count": 5,
   "metadata": {},
   "outputs": [],
   "source": [
    "# load feature extraction tensor\n",
    "feature_extraction = np.load('ResNet50_feature_extraction.npy')"
   ]
  },
  {
   "cell_type": "code",
   "execution_count": 6,
   "metadata": {
    "colab": {
     "base_uri": "https://localhost:8080/"
    },
    "id": "_g1goLdTNIla",
    "outputId": "a616fa4b-5abf-442a-9307-64d134800eba"
   },
   "outputs": [],
   "source": [
    "# get number of classes\n",
    "NUM_CLASSES = label.shape[1]\n",
    "\n",
    "# build trainable model\n",
    "model = Sequential()\n",
    "model.add(GlobalAveragePooling2D())\n",
    "model.add(Dense(256, activation='relu'))\n",
    "model.add(Dropout(.25))\n",
    "model.add(BatchNormalization())\n",
    "model.add(Dense(NUM_CLASSES, activation='softmax'))"
   ]
  },
  {
   "cell_type": "code",
   "execution_count": 7,
   "metadata": {
    "id": "xrK3zypOdVeK"
   },
   "outputs": [],
   "source": [
    "# compile model\n",
    "model.compile(optimizer='rmsprop',\n",
    "              loss='categorical_crossentropy',\n",
    "              metrics=['accuracy'])"
   ]
  },
  {
   "cell_type": "code",
   "execution_count": 15,
   "metadata": {
    "colab": {
     "base_uri": "https://localhost:8080/"
    },
    "id": "oHl5whPOdbgB",
    "outputId": "78b150a8-cb9b-4b09-8dd5-e2663ab77c54"
   },
   "outputs": [
    {
     "name": "stdout",
     "output_type": "stream",
     "text": [
      "Train on 7666 samples, validate on 1917 samples\n",
      "Epoch 1/500\n",
      "5/5 [==============================] - 4s 764ms/step - loss: 0.2520 - accuracy: 0.9142 - val_loss: 1.1402 - val_accuracy: 0.7068\n",
      "Epoch 2/500\n",
      "5/5 [==============================] - 4s 790ms/step - loss: 0.0731 - accuracy: 0.9773 - val_loss: 0.8204 - val_accuracy: 0.7653\n",
      "Epoch 3/500\n",
      "5/5 [==============================] - 3s 670ms/step - loss: 0.0225 - accuracy: 0.9963 - val_loss: 0.7824 - val_accuracy: 0.7705\n",
      "Epoch 4/500\n",
      "5/5 [==============================] - 4s 869ms/step - loss: 0.0157 - accuracy: 0.9982 - val_loss: 0.8014 - val_accuracy: 0.7736\n",
      "Epoch 5/500\n",
      "5/5 [==============================] - 4s 782ms/step - loss: 0.0145 - accuracy: 0.9983 - val_loss: 0.7905 - val_accuracy: 0.7705\n",
      "Epoch 6/500\n",
      "5/5 [==============================] - 4s 827ms/step - loss: 0.0129 - accuracy: 0.9986 - val_loss: 0.7858 - val_accuracy: 0.7752\n",
      "Epoch 7/500\n",
      "5/5 [==============================] - 5s 1s/step - loss: 0.0118 - accuracy: 0.9988 - val_loss: 0.7926 - val_accuracy: 0.7752\n",
      "Epoch 8/500\n",
      "5/5 [==============================] - 4s 856ms/step - loss: 0.0178 - accuracy: 0.9967 - val_loss: 0.9285 - val_accuracy: 0.7595\n",
      "Epoch 9/500\n",
      "5/5 [==============================] - 5s 916ms/step - loss: 0.1695 - accuracy: 0.9397 - val_loss: 1.1013 - val_accuracy: 0.7350\n",
      "Epoch 10/500\n",
      "5/5 [==============================] - 4s 708ms/step - loss: 0.0765 - accuracy: 0.9749 - val_loss: 0.8311 - val_accuracy: 0.7746\n",
      "Epoch 11/500\n",
      "5/5 [==============================] - 3s 671ms/step - loss: 0.0148 - accuracy: 0.9979 - val_loss: 0.8380 - val_accuracy: 0.7762\n",
      "Epoch 12/500\n",
      "5/5 [==============================] - 3s 685ms/step - loss: 0.0113 - accuracy: 0.9987 - val_loss: 0.8359 - val_accuracy: 0.7757\n",
      "Epoch 13/500\n",
      "5/5 [==============================] - 3s 674ms/step - loss: 0.0106 - accuracy: 0.9986 - val_loss: 0.8369 - val_accuracy: 0.7736\n",
      "Epoch 14/500\n",
      "5/5 [==============================] - 3s 677ms/step - loss: 0.0091 - accuracy: 0.9990 - val_loss: 0.8460 - val_accuracy: 0.7741\n",
      "Epoch 15/500\n",
      "5/5 [==============================] - 3s 674ms/step - loss: 0.0084 - accuracy: 0.9992 - val_loss: 0.8494 - val_accuracy: 0.7679\n",
      "Epoch 16/500\n",
      "5/5 [==============================] - 3s 683ms/step - loss: 0.0090 - accuracy: 0.9991 - val_loss: 0.9098 - val_accuracy: 0.7736\n",
      "Epoch 17/500\n",
      "5/5 [==============================] - 3s 684ms/step - loss: 0.1164 - accuracy: 0.9604 - val_loss: 2.6289 - val_accuracy: 0.6244\n",
      "Epoch 18/500\n",
      "5/5 [==============================] - 3s 680ms/step - loss: 0.2419 - accuracy: 0.9257 - val_loss: 0.9294 - val_accuracy: 0.7705\n",
      "Epoch 19/500\n",
      "5/5 [==============================] - 3s 681ms/step - loss: 0.0202 - accuracy: 0.9961 - val_loss: 0.9071 - val_accuracy: 0.7679\n",
      "Epoch 20/500\n",
      "5/5 [==============================] - 4s 768ms/step - loss: 0.0117 - accuracy: 0.9984 - val_loss: 0.8978 - val_accuracy: 0.7679\n",
      "Epoch 21/500\n",
      "5/5 [==============================] - 4s 837ms/step - loss: 0.0089 - accuracy: 0.9989 - val_loss: 0.8995 - val_accuracy: 0.7710\n",
      "Time consumed for 500 epochs: 1.33 mins\n"
     ]
    }
   ],
   "source": [
    "start_time = time.time()\n",
    "\n",
    "EPOCHS = 500\n",
    "STEPS_PER_EPOCH = 5\n",
    "VALIDATION_STEPS = 1\n",
    "\n",
    "# save weights with best validation accuracy\n",
    "checkpoint_filepath = './ResNet_50_Top_Checkpoint'\n",
    "model_checkpoint_callback = keras.callbacks.ModelCheckpoint(\n",
    "    filepath=checkpoint_filepath,\n",
    "    save_weights_only=True,\n",
    "    monitor='val_accuracy',\n",
    "    mode='max',\n",
    "    save_best_only=True)\n",
    "\n",
    "# stop training when validation accuracy stops improving\n",
    "early_stopping_callback = keras.callbacks.EarlyStopping(\n",
    "    monitor='val_accuracy',\n",
    "    min_delta=0.01,\n",
    "    patience=10,\n",
    "    mode='auto',\n",
    "    restore_best_weights=True)\n",
    "\n",
    "# train model\n",
    "history = model.fit(\n",
    "    x=feature_extraction, y=Y_train,\n",
    "    epochs=EPOCHS,\n",
    "    steps_per_epoch=STEPS_PER_EPOCH,\n",
    "    validation_steps=VALIDATION_STEPS,\n",
    "    validation_split=0.2,\n",
    "    shuffle=True,\n",
    "    callbacks=[model_checkpoint_callback, early_stopping_callback])\n",
    "  \n",
    "print(f\"Time consumed for {EPOCHS} epochs: {(time.time() - start_time )/60 // 0.01 * 0.01} mins\")"
   ]
  },
  {
   "cell_type": "code",
   "execution_count": 16,
   "metadata": {},
   "outputs": [],
   "source": [
    "# load weights with best validation accuracy\n",
    "model.load_weights(checkpoint_filepath)"
   ]
  },
  {
   "cell_type": "code",
   "execution_count": 17,
   "metadata": {
    "colab": {
     "base_uri": "https://localhost:8080/",
     "height": 545
    },
    "id": "4mVbRbbffqty",
    "outputId": "2255306f-4e42-475f-c67c-0bacd91ae6c3"
   },
   "outputs": [
    {
     "data": {
      "image/png": "[encoded data removed]",
      "text/plain": [
       "<Figure size 432x288 with 1 Axes>"
      ]
     },
     "metadata": {
      "needs_background": "light"
     },
     "output_type": "display_data"
    },
    {
     "data": {
      "image/png": "[encoded data removed]",
      "text/plain": [
       "<Figure size 432x288 with 1 Axes>"
      ]
     },
     "metadata": {
      "needs_background": "light"
     },
     "output_type": "display_data"
    }
   ],
   "source": [
    "# visualize training statistics\n",
    "acc = history.history['accuracy']\n",
    "loss = history.history['loss']\n",
    "val_acc = history.history['val_accuracy']\n",
    "val_loss = history.history['val_loss']\n",
    "epochs = range(1,len(acc)+1)\n",
    "\n",
    "plt.plot(epochs, val_acc,'r', label = 'Validation')\n",
    "plt.plot(epochs, acc,'b', label = 'Train')\n",
    "plt.title(\"Training Accuracy\")\n",
    "plt.legend()\n",
    "\n",
    "plt.figure()\n",
    "plt.plot(epochs, val_loss,'r', label = 'Validation')\n",
    "plt.plot(epochs,loss,'b', label = 'Train')\n",
    "plt.title(\"Training Loss\")\n",
    "\n",
    "plt.legend()\n",
    "plt.show()"
   ]
  },
  {
   "cell_type": "code",
   "execution_count": 25,
   "metadata": {},
   "outputs": [],
   "source": [
    "# combine ResNet50 base model with trained layers\n",
    "out = model(resnet_model.outputs)\n",
    "transfer_model = Model(inputs=resnet_model.inputs, outputs=out)\n",
    "\n",
    "transfer_model.compile(optimizer='rmsprop',\n",
    "              loss='categorical_crossentropy',\n",
    "              metrics=['accuracy'])"
   ]
  },
  {
   "cell_type": "code",
   "execution_count": null,
   "metadata": {
    "colab": {
     "base_uri": "https://localhost:8080/"
    },
    "id": "fEVviCSif7lB",
    "outputId": "1d9a0502-763e-4dc1-adfc-4e78e6fefc91"
   },
   "outputs": [],
   "source": [
    "# test full model\n",
    "evaluation = transfer_model.evaluate(x = X_test, y = Y_test)"
   ]
  },
  {
   "cell_type": "code",
   "execution_count": 40,
   "metadata": {
    "id": "RmvNMpOuXSkl"
   },
   "outputs": [
    {
     "name": "stdout",
     "output_type": "stream",
     "text": [
      "['loss', 'accuracy']\n",
      "[0.8020911431382223, 0.786462128162384]\n"
     ]
    }
   ],
   "source": [
    "print(transfer_model.metrics_names)\n",
    "print(evaluation)"
   ]
  }
 ],
 "metadata": {
  "accelerator": "GPU",
  "colab": {
   "collapsed_sections": [],
   "name": "ResNet_Transfer_Learning.ipynb",
   "provenance": []
  },
  "kernelspec": {
   "display_name": "Python 3",
   "language": "python",
   "name": "python3"
  },
  "language_info": {
   "codemirror_mode": {
    "name": "ipython",
    "version": 3
   },
   "file_extension": ".py",
   "mimetype": "text/x-python",
   "name": "python",
   "nbconvert_exporter": "python",
   "pygments_lexer": "ipython3",
   "version": "3.7.3"
  }
 },
 "nbformat": 4,
 "nbformat_minor": 1
}
