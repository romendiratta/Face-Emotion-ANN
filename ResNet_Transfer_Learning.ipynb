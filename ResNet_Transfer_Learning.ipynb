{
 "cells": [
  {
   "cell_type": "code",
   "execution_count": 2,
   "metadata": {
    "colab": {
     "base_uri": "https://localhost:8080/",
     "height": 35
    },
    "id": "Vw7_lP-DS930",
    "outputId": "067252ec-0ee4-4446-8a74-18d3d73235f9"
   },
   "outputs": [],
   "source": [
    "from os import path\n",
    "import numpy as np\n",
    "import cv2\n",
    "import time\n",
    "import pandas as pd\n",
    "from sklearn.preprocessing import LabelEncoder\n",
    "from sklearn.preprocessing import OneHotEncoder\n",
    "from matplotlib import pyplot as plt\n",
    "import tensorflow as tf\n",
    "#tf.test.gpu_device_name()\n"
   ]
  },
  {
   "cell_type": "code",
   "execution_count": 3,
   "metadata": {
    "colab": {
     "base_uri": "https://localhost:8080/"
    },
    "id": "9mkvSGDlS933",
    "outputId": "23b618ad-9354-4f28-898c-66026f314552"
   },
   "outputs": [
    {
     "name": "stdout",
     "output_type": "stream",
     "text": [
      "(13690,)\n"
     ]
    }
   ],
   "source": [
    "#path = 'drive/Shared drives/539Final/'\n",
    "path = \"\"\n",
    "# read iris.csv\n",
    "legend = pd.read_csv(path + 'legend.csv').to_numpy()\n",
    "\n",
    "# split into label and identifiers\n",
    "tmp_labels = legend[:, 2]\n",
    "tmp_pic_names = legend[:, 1]\n",
    "tmp_labels = np.array([i.lower() for i in tmp_labels])\n",
    "print(tmp_pic_names.shape)\n"
   ]
  },
  {
   "cell_type": "code",
   "execution_count": 4,
   "metadata": {
    "colab": {
     "base_uri": "https://localhost:8080/",
     "height": 320
    },
    "id": "PkNkFf9Q-YBm",
    "outputId": "7892fc5a-027f-436e-a9ec-03ba770a6d99"
   },
   "outputs": [
    {
     "data": {
      "image/png": "[encoded data removed]",
      "text/plain": [
       "<Figure size 720x360 with 1 Axes>"
      ]
     },
     "metadata": {
      "needs_background": "light"
     },
     "output_type": "display_data"
    }
   ],
   "source": [
    "import collections\n",
    "counter = collections.Counter(tmp_labels)\n",
    "x = [i for i in counter]\n",
    "y = [counter[i] for i in counter]\n",
    "\n",
    "plt.figure(figsize=(10,5))\n",
    "plt.bar(x, y)\n",
    "plt.ylabel('Counts')\n",
    "plt.show()"
   ]
  },
  {
   "cell_type": "code",
   "execution_count": 5,
   "metadata": {
    "id": "5Vz8QxFyS937"
   },
   "outputs": [],
   "source": [
    "#Data Preprocessing\n",
    "folder = 'images/'\n",
    "imgs = []\n",
    "for name in tmp_pic_names[:]:\n",
    "    \n",
    "    #read the img\n",
    "    img = cv2.imread(folder+name)\n",
    "    #resize\n",
    "    final_img = cv2.resize(img, (128,128))\n",
    "    \n",
    "    imgs.append(final_img)"
   ]
  },
  {
   "cell_type": "code",
   "execution_count": 4,
   "metadata": {
    "colab": {
     "base_uri": "https://localhost:8080/"
    },
    "id": "p83kPjBMS939",
    "outputId": "6fe71cf6-0f50-4e29-d40c-4e44e2681d42"
   },
   "outputs": [
    {
     "name": "stdout",
     "output_type": "stream",
     "text": [
      "['x0_anger' 'x0_contempt' 'x0_disgust' 'x0_fear' 'x0_happiness'\n",
      " 'x0_neutral' 'x0_sadness' 'x0_surprise']\n"
     ]
    }
   ],
   "source": [
    "# autoencode labels for training\n",
    "onehot_encoder = OneHotEncoder(sparse=False)\n",
    "labels = onehot_encoder.fit_transform(tmp_labels.reshape(-1, 1))\n",
    "\n",
    "# feature list for reverse transform\n",
    "print(onehot_encoder.get_feature_names())"
   ]
  },
  {
   "cell_type": "code",
   "execution_count": 5,
   "metadata": {
    "id": "_m6DHGxiHs1t"
   },
   "outputs": [],
   "source": [
    "input = np.array(imgs)\n",
    "label = np.array(labels)"
   ]
  },
  {
   "cell_type": "code",
   "execution_count": null,
   "metadata": {
    "id": "frY6AhruS94A"
   },
   "outputs": [],
   "source": [
    "# save processed data for later use\n",
    "np.save('input_incep_v3', imgs)\n",
    "np.save('labels_incep_v3', labels)"
   ]
  },
  {
   "cell_type": "code",
   "execution_count": null,
   "metadata": {
    "id": "UROzzSP8S94C"
   },
   "outputs": [],
   "source": [
    "input = np.load('input_incep_v3.npy')\n",
    "label = np.load('labels_incep_v3.npy')"
   ]
  },
  {
   "cell_type": "code",
   "execution_count": 8,
   "metadata": {
    "colab": {
     "base_uri": "https://localhost:8080/"
    },
    "id": "03d_5kPiL-RI",
    "outputId": "9911c487-fa47-4ef2-f48f-dc442964c7fc"
   },
   "outputs": [
    {
     "name": "stdout",
     "output_type": "stream",
     "text": [
      "Downloading data from https://storage.googleapis.com/tensorflow/keras-applications/resnet/resnet50_weights_tf_dim_ordering_tf_kernels_notop.h5\n",
      "94773248/94765736 [==============================] - 0s 0us/step\n"
     ]
    }
   ],
   "source": [
    "#import model from keras\n",
    "from keras.models import Model\n",
    "from keras.applications import ResNet50\n",
    "from keras.layers import Dense, GlobalAveragePooling2D, Dropout, UpSampling2D, BatchNormalization\n",
    "from keras.applications.inception_v3 import InceptionV3\n",
    "#from keras.applications.inception_v3 import preprocess_input\n",
    "from keras.applications.resnet import preprocess_input\n",
    "from keras import Sequential\n",
    "\n",
    "resnet_model = ResNet50(weights='imagenet', include_top=False, input_shape=(128,128,3))\n",
    "#InceptionV3_model = InceptionV3(weights='imagenet', include_top=False, input_shape=(128,128,3))\n"
   ]
  },
  {
   "cell_type": "code",
   "execution_count": 9,
   "metadata": {
    "colab": {
     "base_uri": "https://localhost:8080/"
    },
    "id": "_g1goLdTNIla",
    "outputId": "a616fa4b-5abf-442a-9307-64d134800eba"
   },
   "outputs": [
    {
     "name": "stdout",
     "output_type": "stream",
     "text": [
      "Classes: 8\n"
     ]
    }
   ],
   "source": [
    "CLASSES = label.shape[1]\n",
    "print('Classes:', CLASSES)\n",
    "\n",
    "model = Sequential()\n",
    "model.add(resnet_model)\n",
    "#model.add(InceptionV3_model)\n",
    "model.add(GlobalAveragePooling2D())\n",
    "model.add(Dense(256, activation='relu'))\n",
    "model.add(Dropout(.25))\n",
    "model.add(BatchNormalization())\n",
    "model.add(Dense(CLASSES, activation='softmax'))\n",
    "\n",
    "for layer in resnet_model.layers:\n",
    "    #if isinstance(layer, BatchNormalization):\n",
    "        #layer.trainable = True\n",
    "    #else:\n",
    "    layer.trainable = False"
   ]
  },
  {
   "cell_type": "code",
   "execution_count": 10,
   "metadata": {
    "colab": {
     "base_uri": "https://localhost:8080/"
    },
    "id": "HXCQVEYseNEx",
    "outputId": "b7a55685-fc0c-4bbc-bb74-cbaabf9b1ca3"
   },
   "outputs": [
    {
     "name": "stdout",
     "output_type": "stream",
     "text": [
      "(9583, 128, 128, 3)\n",
      "(9583, 8)\n",
      "(4107, 128, 128, 3)\n",
      "(4107, 8)\n"
     ]
    }
   ],
   "source": [
    "from sklearn.model_selection import train_test_split\n",
    "#split out the test data\n",
    "X_train, X_test, y_train, y_test = train_test_split(input, label, test_size=0.3, random_state=0)\n",
    "\n",
    "\n",
    "X_train = preprocess_input(X_train)\n",
    "X_test = preprocess_input(X_test)\n",
    "\n",
    "print(X_train.shape)\n",
    "print(y_train.shape)\n",
    "\n",
    "print(X_test.shape)\n",
    "print(y_test.shape)"
   ]
  },
  {
   "cell_type": "code",
   "execution_count": 11,
   "metadata": {
    "id": "xrK3zypOdVeK"
   },
   "outputs": [],
   "source": [
    "model.compile(optimizer='rmsprop',\n",
    "              loss='categorical_crossentropy',\n",
    "              metrics=['accuracy'])"
   ]
  },
  {
   "cell_type": "code",
   "execution_count": 12,
   "metadata": {
    "colab": {
     "base_uri": "https://localhost:8080/"
    },
    "id": "oHl5whPOdbgB",
    "outputId": "78b150a8-cb9b-4b09-8dd5-e2663ab77c54"
   },
   "outputs": [
    {
     "name": "stdout",
     "output_type": "stream",
     "text": [
      "Epoch 1/100\n",
      "2/2 [==============================] - ETA: 0s - loss: 2.4680 - accuracy: 0.3054WARNING:tensorflow:Callbacks method `on_train_batch_end` is slow compared to the batch time (batch time: 0.5931s vs `on_train_batch_end` time: 3.9847s). Check your callbacks.\n",
      "2/2 [==============================] - 9s 4s/step - loss: 2.4680 - accuracy: 0.3054 - val_loss: 1.9714 - val_accuracy: 0.6244\n",
      "Epoch 2/100\n",
      "2/2 [==============================] - 10s 5s/step - loss: 1.6532 - accuracy: 0.5547 - val_loss: 1.8390 - val_accuracy: 0.6348\n",
      "Epoch 3/100\n",
      "2/2 [==============================] - 10s 5s/step - loss: 1.4029 - accuracy: 0.6312 - val_loss: 1.5909 - val_accuracy: 0.6390\n",
      "Epoch 4/100\n",
      "2/2 [==============================] - 10s 5s/step - loss: 1.2393 - accuracy: 0.6826 - val_loss: 1.4855 - val_accuracy: 0.6442\n",
      "Epoch 5/100\n",
      "2/2 [==============================] - 9s 5s/step - loss: 1.1314 - accuracy: 0.7154 - val_loss: 1.0804 - val_accuracy: 0.7079\n",
      "Epoch 6/100\n",
      "2/2 [==============================] - 9s 5s/step - loss: 1.0382 - accuracy: 0.7378 - val_loss: 1.0710 - val_accuracy: 0.7079\n",
      "Epoch 7/100\n",
      "2/2 [==============================] - 10s 5s/step - loss: 0.9795 - accuracy: 0.7469 - val_loss: 1.0359 - val_accuracy: 0.7246\n",
      "Epoch 8/100\n",
      "2/2 [==============================] - 10s 5s/step - loss: 0.9150 - accuracy: 0.7670 - val_loss: 1.0329 - val_accuracy: 0.7204\n",
      "Epoch 9/100\n",
      "2/2 [==============================] - 10s 5s/step - loss: 0.8968 - accuracy: 0.7666 - val_loss: 1.0258 - val_accuracy: 0.7334\n",
      "Epoch 10/100\n",
      "2/2 [==============================] - 10s 5s/step - loss: 0.8583 - accuracy: 0.7785 - val_loss: 1.1023 - val_accuracy: 0.7194\n",
      "Epoch 11/100\n",
      "2/2 [==============================] - 10s 5s/step - loss: 0.7970 - accuracy: 0.7970 - val_loss: 1.0557 - val_accuracy: 0.7126\n",
      "Epoch 12/100\n",
      "2/2 [==============================] - 10s 5s/step - loss: 0.7305 - accuracy: 0.8068 - val_loss: 1.0041 - val_accuracy: 0.7235\n",
      "Epoch 13/100\n",
      "2/2 [==============================] - 10s 5s/step - loss: 0.7046 - accuracy: 0.8157 - val_loss: 0.8878 - val_accuracy: 0.7491\n",
      "Epoch 14/100\n",
      "2/2 [==============================] - 10s 5s/step - loss: 0.6882 - accuracy: 0.8217 - val_loss: 0.7807 - val_accuracy: 0.7600\n",
      "Epoch 15/100\n",
      "2/2 [==============================] - 10s 5s/step - loss: 0.6907 - accuracy: 0.8192 - val_loss: 0.8325 - val_accuracy: 0.7600\n",
      "Epoch 16/100\n",
      "2/2 [==============================] - 10s 5s/step - loss: 0.6063 - accuracy: 0.8399 - val_loss: 0.7620 - val_accuracy: 0.7668\n",
      "Epoch 17/100\n",
      "2/2 [==============================] - 10s 5s/step - loss: 0.5544 - accuracy: 0.8513 - val_loss: 0.8184 - val_accuracy: 0.7433\n",
      "Epoch 18/100\n",
      "2/2 [==============================] - 10s 5s/step - loss: 0.5427 - accuracy: 0.8501 - val_loss: 0.7971 - val_accuracy: 0.7611\n",
      "Epoch 19/100\n",
      "2/2 [==============================] - 10s 5s/step - loss: 0.5360 - accuracy: 0.8508 - val_loss: 0.8480 - val_accuracy: 0.7715\n",
      "Epoch 20/100\n",
      "2/2 [==============================] - 10s 5s/step - loss: 0.5283 - accuracy: 0.8516 - val_loss: 0.7860 - val_accuracy: 0.7762\n",
      "Epoch 21/100\n",
      "2/2 [==============================] - 10s 5s/step - loss: 0.4982 - accuracy: 0.8619 - val_loss: 0.7842 - val_accuracy: 0.7778\n",
      "Epoch 22/100\n",
      "2/2 [==============================] - 10s 5s/step - loss: 0.4599 - accuracy: 0.8733 - val_loss: 0.7526 - val_accuracy: 0.7856\n",
      "Epoch 23/100\n",
      "2/2 [==============================] - 10s 5s/step - loss: 0.4266 - accuracy: 0.8834 - val_loss: 0.8040 - val_accuracy: 0.7773\n",
      "Epoch 24/100\n",
      "2/2 [==============================] - 10s 5s/step - loss: 0.4095 - accuracy: 0.8812 - val_loss: 0.8106 - val_accuracy: 0.7767\n",
      "Epoch 25/100\n",
      "2/2 [==============================] - 10s 5s/step - loss: 0.3938 - accuracy: 0.8843 - val_loss: 0.8129 - val_accuracy: 0.7793\n",
      "Epoch 26/100\n",
      "2/2 [==============================] - 10s 5s/step - loss: 0.3659 - accuracy: 0.8960 - val_loss: 0.8277 - val_accuracy: 0.7793\n",
      "Epoch 27/100\n",
      "2/2 [==============================] - 10s 5s/step - loss: 0.3922 - accuracy: 0.8816 - val_loss: 0.8277 - val_accuracy: 0.7590\n",
      "Epoch 28/100\n",
      "2/2 [==============================] - 10s 5s/step - loss: 0.4421 - accuracy: 0.8620 - val_loss: 0.8386 - val_accuracy: 0.7512\n",
      "Epoch 29/100\n",
      "2/2 [==============================] - 10s 5s/step - loss: 0.3574 - accuracy: 0.8920 - val_loss: 0.7966 - val_accuracy: 0.7757\n",
      "Epoch 30/100\n",
      "2/2 [==============================] - 10s 5s/step - loss: 0.3092 - accuracy: 0.9123 - val_loss: 0.9938 - val_accuracy: 0.7522\n",
      "Epoch 31/100\n",
      "2/2 [==============================] - 10s 5s/step - loss: 0.3380 - accuracy: 0.9013 - val_loss: 0.8736 - val_accuracy: 0.7668\n",
      "Epoch 32/100\n",
      "2/2 [==============================] - 10s 5s/step - loss: 0.3041 - accuracy: 0.9139 - val_loss: 0.7807 - val_accuracy: 0.7726\n",
      "Epoch 33/100\n",
      "2/2 [==============================] - 10s 5s/step - loss: 0.2613 - accuracy: 0.9268 - val_loss: 0.7768 - val_accuracy: 0.7778\n",
      "Epoch 34/100\n",
      "2/2 [==============================] - 10s 5s/step - loss: 0.2716 - accuracy: 0.9266 - val_loss: 0.9132 - val_accuracy: 0.7621\n",
      "Epoch 35/100\n",
      "2/2 [==============================] - 10s 5s/step - loss: 0.2715 - accuracy: 0.9254 - val_loss: 0.7527 - val_accuracy: 0.7767\n",
      "Epoch 36/100\n",
      "2/2 [==============================] - 10s 5s/step - loss: 0.2426 - accuracy: 0.9267 - val_loss: 0.7243 - val_accuracy: 0.7731\n",
      "Epoch 37/100\n",
      "2/2 [==============================] - 10s 5s/step - loss: 0.2339 - accuracy: 0.9260 - val_loss: 0.7115 - val_accuracy: 0.7710\n",
      "Epoch 38/100\n",
      "2/2 [==============================] - 10s 5s/step - loss: 0.2578 - accuracy: 0.9182 - val_loss: 0.8294 - val_accuracy: 0.7303\n",
      "Epoch 39/100\n",
      "2/2 [==============================] - 10s 5s/step - loss: 0.2670 - accuracy: 0.9170 - val_loss: 0.7371 - val_accuracy: 0.7694\n",
      "Epoch 40/100\n",
      "2/2 [==============================] - 10s 5s/step - loss: 0.2074 - accuracy: 0.9408 - val_loss: 0.7107 - val_accuracy: 0.7715\n",
      "Epoch 41/100\n",
      "2/2 [==============================] - 10s 5s/step - loss: 0.1739 - accuracy: 0.9528 - val_loss: 0.7673 - val_accuracy: 0.7308\n",
      "Epoch 42/100\n",
      "2/2 [==============================] - 10s 5s/step - loss: 0.1696 - accuracy: 0.9568 - val_loss: 0.7226 - val_accuracy: 0.7533\n",
      "Epoch 43/100\n",
      "2/2 [==============================] - 10s 5s/step - loss: 0.1839 - accuracy: 0.9461 - val_loss: 0.7203 - val_accuracy: 0.7439\n",
      "Epoch 44/100\n",
      "2/2 [==============================] - 10s 5s/step - loss: 0.1828 - accuracy: 0.9482 - val_loss: 0.6876 - val_accuracy: 0.7668\n",
      "Epoch 45/100\n",
      "2/2 [==============================] - 10s 5s/step - loss: 0.1776 - accuracy: 0.9444 - val_loss: 0.7644 - val_accuracy: 0.7157\n",
      "Epoch 46/100\n",
      "2/2 [==============================] - 10s 5s/step - loss: 0.1776 - accuracy: 0.9500 - val_loss: 0.7290 - val_accuracy: 0.7392\n",
      "Epoch 47/100\n",
      "2/2 [==============================] - 10s 5s/step - loss: 0.1695 - accuracy: 0.9495 - val_loss: 0.6915 - val_accuracy: 0.7694\n",
      "Epoch 48/100\n",
      "2/2 [==============================] - 10s 5s/step - loss: 0.1510 - accuracy: 0.9551 - val_loss: 0.7107 - val_accuracy: 0.7507\n",
      "Epoch 49/100\n",
      "2/2 [==============================] - 10s 5s/step - loss: 0.1761 - accuracy: 0.9427 - val_loss: 0.7764 - val_accuracy: 0.7574\n",
      "Epoch 50/100\n",
      "2/2 [==============================] - 10s 5s/step - loss: 0.1940 - accuracy: 0.9341 - val_loss: 0.7523 - val_accuracy: 0.7543\n",
      "Epoch 51/100\n",
      "2/2 [==============================] - 10s 5s/step - loss: 0.1742 - accuracy: 0.9447 - val_loss: 0.7167 - val_accuracy: 0.7726\n",
      "Epoch 52/100\n",
      "2/2 [==============================] - 10s 5s/step - loss: 0.1145 - accuracy: 0.9692 - val_loss: 0.6939 - val_accuracy: 0.7799\n",
      "Epoch 53/100\n",
      "2/2 [==============================] - 10s 5s/step - loss: 0.0876 - accuracy: 0.9798 - val_loss: 0.6733 - val_accuracy: 0.7762\n",
      "Epoch 54/100\n",
      "2/2 [==============================] - 10s 5s/step - loss: 0.0753 - accuracy: 0.9850 - val_loss: 0.7025 - val_accuracy: 0.7642\n",
      "Epoch 55/100\n",
      "2/2 [==============================] - 10s 5s/step - loss: 0.0708 - accuracy: 0.9853 - val_loss: 0.6966 - val_accuracy: 0.7616\n",
      "Epoch 56/100\n",
      "2/2 [==============================] - 10s 5s/step - loss: 0.0757 - accuracy: 0.9842 - val_loss: 0.6990 - val_accuracy: 0.7720\n",
      "Epoch 57/100\n",
      "2/2 [==============================] - 10s 5s/step - loss: 0.0745 - accuracy: 0.9827 - val_loss: 0.7092 - val_accuracy: 0.7553\n",
      "Epoch 58/100\n",
      "2/2 [==============================] - 10s 5s/step - loss: 0.0932 - accuracy: 0.9726 - val_loss: 0.7369 - val_accuracy: 0.7486\n",
      "Epoch 59/100\n",
      "2/2 [==============================] - 10s 5s/step - loss: 0.1484 - accuracy: 0.9545 - val_loss: 0.7298 - val_accuracy: 0.7600\n",
      "Epoch 60/100\n",
      "2/2 [==============================] - 10s 5s/step - loss: 0.1939 - accuracy: 0.9333 - val_loss: 0.8526 - val_accuracy: 0.7663\n",
      "Epoch 61/100\n",
      "2/2 [==============================] - 10s 5s/step - loss: 0.2720 - accuracy: 0.9074 - val_loss: 0.7870 - val_accuracy: 0.7642\n",
      "Epoch 62/100\n",
      "2/2 [==============================] - 10s 5s/step - loss: 0.1513 - accuracy: 0.9515 - val_loss: 0.6726 - val_accuracy: 0.7840\n",
      "Epoch 63/100\n",
      "2/2 [==============================] - 10s 5s/step - loss: 0.0670 - accuracy: 0.9838 - val_loss: 0.6583 - val_accuracy: 0.7762\n",
      "Epoch 64/100\n",
      "2/2 [==============================] - 10s 5s/step - loss: 0.0518 - accuracy: 0.9905 - val_loss: 0.6594 - val_accuracy: 0.7778\n",
      "Epoch 65/100\n",
      "2/2 [==============================] - 10s 5s/step - loss: 0.0464 - accuracy: 0.9913 - val_loss: 0.6734 - val_accuracy: 0.7773\n",
      "Epoch 66/100\n",
      "2/2 [==============================] - 10s 5s/step - loss: 0.0466 - accuracy: 0.9920 - val_loss: 0.7003 - val_accuracy: 0.7762\n",
      "Epoch 67/100\n",
      "2/2 [==============================] - 10s 5s/step - loss: 0.0491 - accuracy: 0.9920 - val_loss: 0.7118 - val_accuracy: 0.7835\n",
      "Epoch 68/100\n",
      "2/2 [==============================] - 10s 5s/step - loss: 0.0491 - accuracy: 0.9898 - val_loss: 0.6999 - val_accuracy: 0.7799\n",
      "Epoch 69/100\n",
      "2/2 [==============================] - 10s 5s/step - loss: 0.0497 - accuracy: 0.9898 - val_loss: 0.7421 - val_accuracy: 0.7882\n",
      "Epoch 70/100\n",
      "2/2 [==============================] - 10s 5s/step - loss: 0.0564 - accuracy: 0.9870 - val_loss: 0.7462 - val_accuracy: 0.7773\n",
      "Epoch 71/100\n",
      "2/2 [==============================] - 10s 5s/step - loss: 0.0589 - accuracy: 0.9850 - val_loss: 0.7474 - val_accuracy: 0.7746\n",
      "Epoch 72/100\n",
      "2/2 [==============================] - 10s 5s/step - loss: 0.0752 - accuracy: 0.9763 - val_loss: 0.8353 - val_accuracy: 0.7600\n",
      "Epoch 73/100\n",
      "2/2 [==============================] - 10s 5s/step - loss: 0.1022 - accuracy: 0.9645 - val_loss: 0.7896 - val_accuracy: 0.7611\n",
      "Epoch 74/100\n",
      "2/2 [==============================] - 10s 5s/step - loss: 0.0889 - accuracy: 0.9729 - val_loss: 0.6907 - val_accuracy: 0.7908\n",
      "Epoch 75/100\n",
      "2/2 [==============================] - 10s 5s/step - loss: 0.0669 - accuracy: 0.9808 - val_loss: 0.7574 - val_accuracy: 0.7600\n",
      "Epoch 76/100\n",
      "2/2 [==============================] - 10s 5s/step - loss: 0.1376 - accuracy: 0.9573 - val_loss: 0.8939 - val_accuracy: 0.7418\n",
      "Epoch 77/100\n",
      "2/2 [==============================] - 10s 5s/step - loss: 0.1783 - accuracy: 0.9363 - val_loss: 0.8429 - val_accuracy: 0.7507\n",
      "Epoch 78/100\n",
      "2/2 [==============================] - 10s 5s/step - loss: 0.1214 - accuracy: 0.9584 - val_loss: 0.7115 - val_accuracy: 0.7736\n",
      "Epoch 79/100\n",
      "2/2 [==============================] - 10s 5s/step - loss: 0.0415 - accuracy: 0.9924 - val_loss: 0.6787 - val_accuracy: 0.7809\n",
      "Epoch 80/100\n",
      "2/2 [==============================] - 10s 5s/step - loss: 0.0284 - accuracy: 0.9962 - val_loss: 0.6941 - val_accuracy: 0.7788\n",
      "Epoch 81/100\n",
      "2/2 [==============================] - 10s 5s/step - loss: 0.0244 - accuracy: 0.9967 - val_loss: 0.7006 - val_accuracy: 0.7814\n",
      "Epoch 82/100\n",
      "2/2 [==============================] - 10s 5s/step - loss: 0.0242 - accuracy: 0.9969 - val_loss: 0.7207 - val_accuracy: 0.7830\n",
      "Epoch 83/100\n",
      "2/2 [==============================] - 10s 5s/step - loss: 0.0207 - accuracy: 0.9983 - val_loss: 0.7086 - val_accuracy: 0.7840\n",
      "Epoch 84/100\n",
      "2/2 [==============================] - 10s 5s/step - loss: 0.0202 - accuracy: 0.9977 - val_loss: 0.7300 - val_accuracy: 0.7830\n",
      "Epoch 85/100\n",
      "2/2 [==============================] - 10s 5s/step - loss: 0.0194 - accuracy: 0.9978 - val_loss: 0.7131 - val_accuracy: 0.7861\n",
      "Epoch 86/100\n",
      "2/2 [==============================] - 10s 5s/step - loss: 0.0193 - accuracy: 0.9974 - val_loss: 0.7023 - val_accuracy: 0.7746\n",
      "Epoch 87/100\n",
      "2/2 [==============================] - 10s 5s/step - loss: 0.0194 - accuracy: 0.9980 - val_loss: 0.7042 - val_accuracy: 0.7814\n",
      "Epoch 88/100\n",
      "2/2 [==============================] - 10s 5s/step - loss: 0.0199 - accuracy: 0.9971 - val_loss: 0.6971 - val_accuracy: 0.7898\n",
      "Epoch 89/100\n",
      "2/2 [==============================] - 10s 5s/step - loss: 0.0196 - accuracy: 0.9974 - val_loss: 0.8007 - val_accuracy: 0.7616\n",
      "Epoch 90/100\n",
      "2/2 [==============================] - 10s 5s/step - loss: 0.0199 - accuracy: 0.9979 - val_loss: 0.8112 - val_accuracy: 0.7533\n",
      "Epoch 91/100\n",
      "2/2 [==============================] - 10s 5s/step - loss: 0.0454 - accuracy: 0.9871 - val_loss: 0.9160 - val_accuracy: 0.7533\n",
      "Epoch 92/100\n",
      "2/2 [==============================] - 10s 5s/step - loss: 0.2643 - accuracy: 0.9080 - val_loss: 1.5385 - val_accuracy: 0.6933\n",
      "Epoch 93/100\n",
      "2/2 [==============================] - 10s 5s/step - loss: 0.3939 - accuracy: 0.8735 - val_loss: 1.2042 - val_accuracy: 0.7079\n",
      "Epoch 94/100\n",
      "2/2 [==============================] - 10s 5s/step - loss: 0.2198 - accuracy: 0.9224 - val_loss: 0.8697 - val_accuracy: 0.7449\n",
      "Epoch 95/100\n",
      "2/2 [==============================] - 10s 5s/step - loss: 0.0607 - accuracy: 0.9836 - val_loss: 0.7175 - val_accuracy: 0.7835\n",
      "Epoch 96/100\n",
      "2/2 [==============================] - 10s 5s/step - loss: 0.0292 - accuracy: 0.9958 - val_loss: 0.7230 - val_accuracy: 0.7882\n",
      "Epoch 97/100\n",
      "2/2 [==============================] - 10s 5s/step - loss: 0.0229 - accuracy: 0.9970 - val_loss: 0.7304 - val_accuracy: 0.7866\n",
      "Epoch 98/100\n",
      "2/2 [==============================] - 10s 5s/step - loss: 0.0204 - accuracy: 0.9973 - val_loss: 0.7308 - val_accuracy: 0.7882\n",
      "Epoch 99/100\n",
      "2/2 [==============================] - 10s 5s/step - loss: 0.0183 - accuracy: 0.9978 - val_loss: 0.7415 - val_accuracy: 0.7861\n",
      "Epoch 100/100\n",
      "2/2 [==============================] - 10s 5s/step - loss: 0.0169 - accuracy: 0.9982 - val_loss: 0.7368 - val_accuracy: 0.7856\n",
      "WARNING:tensorflow:From /usr/local/lib/python3.6/dist-packages/tensorflow/python/training/tracking/tracking.py:111: Model.state_updates (from tensorflow.python.keras.engine.training) is deprecated and will be removed in a future version.\n",
      "Instructions for updating:\n",
      "This property should not be used in TensorFlow 2.0, as updates are applied automatically.\n",
      "WARNING:tensorflow:From /usr/local/lib/python3.6/dist-packages/tensorflow/python/training/tracking/tracking.py:111: Layer.updates (from tensorflow.python.keras.engine.base_layer) is deprecated and will be removed in a future version.\n",
      "Instructions for updating:\n",
      "This property should not be used in TensorFlow 2.0, as updates are applied automatically.\n",
      "INFO:tensorflow:Assets written to: final_test1.model/assets\n",
      "Time consumed for 100 epochs: 17.45 mins\n"
     ]
    }
   ],
   "source": [
    "start_time = time.time()\n",
    "EPOCHS = 100\n",
    "STEPS_PER_EPOCH = 2\n",
    "MODEL_FILE = 'final_test1.model'\n",
    "\n",
    "history = model.fit(\n",
    "    x = X_train, y = y_train,\n",
    "    epochs=EPOCHS,\n",
    "    steps_per_epoch=STEPS_PER_EPOCH,\n",
    "    validation_split= 0.2,\n",
    "    shuffle = True)\n",
    "  \n",
    "model.save(MODEL_FILE)\n",
    "print(f\"Time consumed for {EPOCHS} epochs: {(time.time() - start_time )/60 // 0.01 * 0.01} mins\")"
   ]
  },
  {
   "cell_type": "code",
   "execution_count": 14,
   "metadata": {
    "colab": {
     "base_uri": "https://localhost:8080/",
     "height": 545
    },
    "id": "4mVbRbbffqty",
    "outputId": "2255306f-4e42-475f-c67c-0bacd91ae6c3"
   },
   "outputs": [
    {
     "data": {
      "image/png": "[encoded data removed]",
      "text/plain": [
       "<Figure size 432x288 with 1 Axes>"
      ]
     },
     "metadata": {
      "needs_background": "light",
      "tags": []
     },
     "output_type": "display_data"
    },
    {
     "data": {
      "image/png": "[encoded data removed]",
      "text/plain": [
       "<Figure size 432x288 with 1 Axes>"
      ]
     },
     "metadata": {
      "needs_background": "light",
      "tags": []
     },
     "output_type": "display_data"
    }
   ],
   "source": [
    "import matplotlib.pyplot as plt\n",
    "acc = history.history['accuracy']\n",
    "loss = history.history['loss']\n",
    "val_acc = history.history['val_accuracy']\n",
    "val_loss = history.history['val_loss']\n",
    "epochs = range(1,len(acc)+1)\n",
    "\n",
    "plt.plot(epochs, val_acc,'r', label = 'Test')\n",
    "plt.plot(epochs, acc,'b', label = 'Train')\n",
    "plt.title(\"Training Accuracy\")\n",
    "plt.legend()\n",
    "\n",
    "plt.figure()\n",
    "plt.plot(epochs, val_loss,'r', label = 'Test')\n",
    "plt.plot(epochs,loss,'b', label = 'Train')\n",
    "plt.title(\"Training Loss\")\n",
    "\n",
    "plt.legend()\n",
    "plt.show()"
   ]
  },
  {
   "cell_type": "code",
   "execution_count": 15,
   "metadata": {
    "colab": {
     "base_uri": "https://localhost:8080/"
    },
    "id": "fEVviCSif7lB",
    "outputId": "1d9a0502-763e-4dc1-adfc-4e78e6fefc91"
   },
   "outputs": [
    {
     "name": "stdout",
     "output_type": "stream",
     "text": [
      "129/129 [==============================] - 5s 38ms/step - loss: 0.7213 - accuracy: 0.7879\n"
     ]
    }
   ],
   "source": [
    " #test result\n",
    " test = model.evaluate(x = X_test, y = y_test)"
   ]
  },
  {
   "cell_type": "code",
   "execution_count": null,
   "metadata": {
    "id": "RmvNMpOuXSkl"
   },
   "outputs": [],
   "source": []
  }
 ],
 "metadata": {
  "accelerator": "GPU",
  "colab": {
   "collapsed_sections": [],
   "name": "ResNet_Transfer_Learning.ipynb",
   "provenance": []
  },
  "kernelspec": {
   "display_name": "Python 3",
   "language": "python",
   "name": "python3"
  },
  "language_info": {
   "codemirror_mode": {
    "name": "ipython",
    "version": 3
   },
   "file_extension": ".py",
   "mimetype": "text/x-python",
   "name": "python",
   "nbconvert_exporter": "python",
   "pygments_lexer": "ipython3",
   "version": "3.7.8"
  }
 },
 "nbformat": 4,
 "nbformat_minor": 1
}
